{
 "cells": [
  {
   "cell_type": "code",
   "execution_count": 1067,
   "id": "3873b1a1-7664-4a2c-acf7-08571e547cde",
   "metadata": {},
   "outputs": [],
   "source": [
    "import numpy as np\n",
    "import pandas as pd\n",
    "\n",
    "import seaborn as sns\n",
    "import matplotlib.pyplot as plt\n",
    "\n",
    "plt.rc('font', family='NanumGothic')\n",
    "SEED = 42"
   ]
  },
  {
   "cell_type": "code",
   "execution_count": 1068,
   "id": "c588d4bf-5c74-4154-9741-382c53376b78",
   "metadata": {},
   "outputs": [],
   "source": [
    "train_ft = pd.read_csv(\"train.csv\")\n",
    "test_ft = pd.read_csv(\"test.csv\")"
   ]
  },
  {
   "cell_type": "code",
   "execution_count": 1069,
   "id": "220110ef-5529-4fd7-acf5-99fd245a6b76",
   "metadata": {},
   "outputs": [
    {
     "data": {
      "text/plain": [
       "96294"
      ]
     },
     "execution_count": 1069,
     "metadata": {},
     "output_type": "execute_result"
    }
   ],
   "source": [
    "target = train_ft['대출등급']\n",
    "len(target)"
   ]
  },
  {
   "cell_type": "code",
   "execution_count": 1070,
   "id": "111c1bc5-47a1-4886-9cbd-542881efb61a",
   "metadata": {},
   "outputs": [],
   "source": [
    "train_ft=train_ft.iloc[:,1:-1]\n",
    "test_ft=test_ft.iloc[:,1:]"
   ]
  },
  {
   "cell_type": "code",
   "execution_count": 1071,
   "id": "54ff4027-c159-4fcf-89a1-121f06e9c879",
   "metadata": {},
   "outputs": [],
   "source": [
    "train_ft['근로기간_copy']=train_ft['근로기간'].copy()\n",
    "test_ft['근로기간_copy']=test_ft['근로기간'].copy()"
   ]
  },
  {
   "cell_type": "code",
   "execution_count": 1072,
   "id": "38407a84-0d32-476b-ab3e-21504d45503e",
   "metadata": {},
   "outputs": [],
   "source": [
    "train_ft.loc[train_ft['근로기간']=='3','근로기간']='3 years'\n",
    "test_ft.loc[test_ft['근로기간']=='3','근로기간']='3 years'\n",
    "test_ft.loc[test_ft['근로기간']=='1 year','근로기간']='1 years'\n",
    "train_ft.loc[train_ft['근로기간']=='1 year','근로기간']='1 years'\n",
    "test_ft.loc[test_ft['근로기간']=='<1 year','근로기간']='< 1 year'\n",
    "train_ft.loc[train_ft['근로기간']=='<1 year','근로기간']='< 1 year'\n",
    "test_ft.loc[test_ft['근로기간']=='10+years','근로기간']='10+ years'\n",
    "train_ft.loc[train_ft['근로기간']=='10+years','근로기간']='10+ years'\n",
    "test_ft.loc[test_ft['근로기간']=='Unknown','근로기간']='10+ years'\n",
    "train_ft.loc[train_ft['근로기간']=='Unknown','근로기간']='10+ years'"
   ]
  },
  {
   "cell_type": "code",
   "execution_count": 1073,
   "id": "78d9cea8-3641-4080-8892-de77475645c1",
   "metadata": {},
   "outputs": [],
   "source": [
    "values_map=dict({'6 years':6,\n",
    " '10+ years':10,\n",
    " '5 years':5,\n",
    " '8 years':8,\n",
    " '9 years':9,\n",
    " '2 years':2,\n",
    " '1 years':1,\n",
    " '3 years':3,\n",
    " '7 years':7,\n",
    " '4 years':4,\n",
    " '< 1 year':0,\n",
    " })\n",
    "\n",
    "train_ft['근로기간']=train_ft['근로기간'].map(values_map)\n",
    "test_ft['근로기간']=test_ft['근로기간'].map(values_map)"
   ]
  },
  {
   "cell_type": "code",
   "execution_count": 1074,
   "id": "196fa5d0-f39a-4904-9b0f-748f1b79cb30",
   "metadata": {},
   "outputs": [],
   "source": [
    "train_ft['근로기간_copy'] = train_ft['근로기간_copy'].replace({\n",
    "    '<1 year': 'u_1_year',\n",
    "    '< 1 year': 'u_1_year',\n",
    "    '1 years': '1_year',\n",
    "    '1 year' : '1_year',\n",
    "    '2 years' : '2_years',\n",
    "    '3': '3_years',\n",
    "    '3 years' : '3_years',\n",
    "    '4 years' : '4_years',\n",
    "    '5 years' : '5_years',\n",
    "    '6 years' : '6_years',\n",
    "    '7 years' : '7_years',\n",
    "    '8 years' : '8_years',\n",
    "    '9 years' : '9_years',\n",
    "    '10+years': '10p_years',\n",
    "    '10+ years' : '10p_years'\n",
    "\n",
    "})\n",
    "\n",
    "test_ft['근로기간_copy'] = test_ft['근로기간_copy'].replace({\n",
    "    '<1 year': 'u_1_year',\n",
    "    '< 1 year': 'u_1_year',\n",
    "    '1 years': '1_year',\n",
    "    '1 year' : '1_year',\n",
    "    '2 years' : '2_years',\n",
    "    '3': '3_years',\n",
    "    '3 years' : '3_years',\n",
    "    '4 years' : '4_years',\n",
    "    '5 years' : '5_years',\n",
    "    '6 years' : '6_years',\n",
    "    '7 years' : '7_years',\n",
    "    '8 years' : '8_years',\n",
    "    '9 years' : '9_years',\n",
    "    '10+years': '10p_years',\n",
    "    '10+ years' : '10p_years'\n",
    "\n",
    "})\n"
   ]
  },
  {
   "cell_type": "code",
   "execution_count": 1075,
   "id": "2a35f179-5fc0-479d-b0a8-91bea9a860d4",
   "metadata": {},
   "outputs": [
    {
     "data": {
      "text/html": [
       "<div>\n",
       "<style scoped>\n",
       "    .dataframe tbody tr th:only-of-type {\n",
       "        vertical-align: middle;\n",
       "    }\n",
       "\n",
       "    .dataframe tbody tr th {\n",
       "        vertical-align: top;\n",
       "    }\n",
       "\n",
       "    .dataframe thead th {\n",
       "        text-align: right;\n",
       "    }\n",
       "</style>\n",
       "<table border=\"1\" class=\"dataframe\">\n",
       "  <thead>\n",
       "    <tr style=\"text-align: right;\">\n",
       "      <th></th>\n",
       "      <th>대출금액</th>\n",
       "      <th>대출기간</th>\n",
       "      <th>근로기간</th>\n",
       "      <th>주택소유상태</th>\n",
       "      <th>연간소득</th>\n",
       "      <th>부채_대비_소득_비율</th>\n",
       "      <th>총계좌수</th>\n",
       "      <th>대출목적</th>\n",
       "      <th>최근_2년간_연체_횟수</th>\n",
       "      <th>총상환원금</th>\n",
       "      <th>총상환이자</th>\n",
       "      <th>총연체금액</th>\n",
       "      <th>연체계좌수</th>\n",
       "      <th>근로기간_copy</th>\n",
       "    </tr>\n",
       "  </thead>\n",
       "  <tbody>\n",
       "    <tr>\n",
       "      <th>0</th>\n",
       "      <td>12480000</td>\n",
       "      <td>36 months</td>\n",
       "      <td>6</td>\n",
       "      <td>RENT</td>\n",
       "      <td>72000000</td>\n",
       "      <td>18.90</td>\n",
       "      <td>15</td>\n",
       "      <td>부채 통합</td>\n",
       "      <td>0</td>\n",
       "      <td>0</td>\n",
       "      <td>0.0</td>\n",
       "      <td>0.0</td>\n",
       "      <td>0.0</td>\n",
       "      <td>6_years</td>\n",
       "    </tr>\n",
       "    <tr>\n",
       "      <th>1</th>\n",
       "      <td>14400000</td>\n",
       "      <td>60 months</td>\n",
       "      <td>10</td>\n",
       "      <td>MORTGAGE</td>\n",
       "      <td>130800000</td>\n",
       "      <td>22.33</td>\n",
       "      <td>21</td>\n",
       "      <td>주택 개선</td>\n",
       "      <td>0</td>\n",
       "      <td>373572</td>\n",
       "      <td>234060.0</td>\n",
       "      <td>0.0</td>\n",
       "      <td>0.0</td>\n",
       "      <td>10p_years</td>\n",
       "    </tr>\n",
       "    <tr>\n",
       "      <th>2</th>\n",
       "      <td>12000000</td>\n",
       "      <td>36 months</td>\n",
       "      <td>5</td>\n",
       "      <td>MORTGAGE</td>\n",
       "      <td>96000000</td>\n",
       "      <td>8.60</td>\n",
       "      <td>14</td>\n",
       "      <td>부채 통합</td>\n",
       "      <td>0</td>\n",
       "      <td>928644</td>\n",
       "      <td>151944.0</td>\n",
       "      <td>0.0</td>\n",
       "      <td>0.0</td>\n",
       "      <td>5_years</td>\n",
       "    </tr>\n",
       "    <tr>\n",
       "      <th>3</th>\n",
       "      <td>14400000</td>\n",
       "      <td>36 months</td>\n",
       "      <td>8</td>\n",
       "      <td>MORTGAGE</td>\n",
       "      <td>132000000</td>\n",
       "      <td>15.09</td>\n",
       "      <td>15</td>\n",
       "      <td>부채 통합</td>\n",
       "      <td>0</td>\n",
       "      <td>325824</td>\n",
       "      <td>153108.0</td>\n",
       "      <td>0.0</td>\n",
       "      <td>0.0</td>\n",
       "      <td>8_years</td>\n",
       "    </tr>\n",
       "    <tr>\n",
       "      <th>4</th>\n",
       "      <td>18000000</td>\n",
       "      <td>60 months</td>\n",
       "      <td>10</td>\n",
       "      <td>RENT</td>\n",
       "      <td>71736000</td>\n",
       "      <td>25.39</td>\n",
       "      <td>19</td>\n",
       "      <td>주요 구매</td>\n",
       "      <td>0</td>\n",
       "      <td>228540</td>\n",
       "      <td>148956.0</td>\n",
       "      <td>0.0</td>\n",
       "      <td>0.0</td>\n",
       "      <td>Unknown</td>\n",
       "    </tr>\n",
       "    <tr>\n",
       "      <th>...</th>\n",
       "      <td>...</td>\n",
       "      <td>...</td>\n",
       "      <td>...</td>\n",
       "      <td>...</td>\n",
       "      <td>...</td>\n",
       "      <td>...</td>\n",
       "      <td>...</td>\n",
       "      <td>...</td>\n",
       "      <td>...</td>\n",
       "      <td>...</td>\n",
       "      <td>...</td>\n",
       "      <td>...</td>\n",
       "      <td>...</td>\n",
       "      <td>...</td>\n",
       "    </tr>\n",
       "    <tr>\n",
       "      <th>96289</th>\n",
       "      <td>14400000</td>\n",
       "      <td>36 months</td>\n",
       "      <td>10</td>\n",
       "      <td>MORTGAGE</td>\n",
       "      <td>210000000</td>\n",
       "      <td>9.33</td>\n",
       "      <td>33</td>\n",
       "      <td>신용 카드</td>\n",
       "      <td>0</td>\n",
       "      <td>974580</td>\n",
       "      <td>492168.0</td>\n",
       "      <td>0.0</td>\n",
       "      <td>0.0</td>\n",
       "      <td>10p_years</td>\n",
       "    </tr>\n",
       "    <tr>\n",
       "      <th>96290</th>\n",
       "      <td>28800000</td>\n",
       "      <td>60 months</td>\n",
       "      <td>10</td>\n",
       "      <td>MORTGAGE</td>\n",
       "      <td>132000000</td>\n",
       "      <td>5.16</td>\n",
       "      <td>25</td>\n",
       "      <td>주택 개선</td>\n",
       "      <td>0</td>\n",
       "      <td>583728</td>\n",
       "      <td>855084.0</td>\n",
       "      <td>0.0</td>\n",
       "      <td>0.0</td>\n",
       "      <td>10p_years</td>\n",
       "    </tr>\n",
       "    <tr>\n",
       "      <th>96291</th>\n",
       "      <td>14400000</td>\n",
       "      <td>36 months</td>\n",
       "      <td>1</td>\n",
       "      <td>MORTGAGE</td>\n",
       "      <td>84000000</td>\n",
       "      <td>11.24</td>\n",
       "      <td>22</td>\n",
       "      <td>신용 카드</td>\n",
       "      <td>0</td>\n",
       "      <td>1489128</td>\n",
       "      <td>241236.0</td>\n",
       "      <td>0.0</td>\n",
       "      <td>0.0</td>\n",
       "      <td>1_year</td>\n",
       "    </tr>\n",
       "    <tr>\n",
       "      <th>96292</th>\n",
       "      <td>15600000</td>\n",
       "      <td>36 months</td>\n",
       "      <td>5</td>\n",
       "      <td>MORTGAGE</td>\n",
       "      <td>66330000</td>\n",
       "      <td>17.30</td>\n",
       "      <td>21</td>\n",
       "      <td>부채 통합</td>\n",
       "      <td>2</td>\n",
       "      <td>1378368</td>\n",
       "      <td>818076.0</td>\n",
       "      <td>0.0</td>\n",
       "      <td>0.0</td>\n",
       "      <td>5_years</td>\n",
       "    </tr>\n",
       "    <tr>\n",
       "      <th>96293</th>\n",
       "      <td>8640000</td>\n",
       "      <td>36 months</td>\n",
       "      <td>10</td>\n",
       "      <td>RENT</td>\n",
       "      <td>50400000</td>\n",
       "      <td>11.80</td>\n",
       "      <td>14</td>\n",
       "      <td>신용 카드</td>\n",
       "      <td>0</td>\n",
       "      <td>596148</td>\n",
       "      <td>274956.0</td>\n",
       "      <td>0.0</td>\n",
       "      <td>0.0</td>\n",
       "      <td>10p_years</td>\n",
       "    </tr>\n",
       "  </tbody>\n",
       "</table>\n",
       "<p>96294 rows × 14 columns</p>\n",
       "</div>"
      ],
      "text/plain": [
       "           대출금액        대출기간  근로기간    주택소유상태       연간소득  부채_대비_소득_비율  총계좌수  \\\n",
       "0      12480000   36 months     6      RENT   72000000        18.90    15   \n",
       "1      14400000   60 months    10  MORTGAGE  130800000        22.33    21   \n",
       "2      12000000   36 months     5  MORTGAGE   96000000         8.60    14   \n",
       "3      14400000   36 months     8  MORTGAGE  132000000        15.09    15   \n",
       "4      18000000   60 months    10      RENT   71736000        25.39    19   \n",
       "...         ...         ...   ...       ...        ...          ...   ...   \n",
       "96289  14400000   36 months    10  MORTGAGE  210000000         9.33    33   \n",
       "96290  28800000   60 months    10  MORTGAGE  132000000         5.16    25   \n",
       "96291  14400000   36 months     1  MORTGAGE   84000000        11.24    22   \n",
       "96292  15600000   36 months     5  MORTGAGE   66330000        17.30    21   \n",
       "96293   8640000   36 months    10      RENT   50400000        11.80    14   \n",
       "\n",
       "        대출목적  최근_2년간_연체_횟수    총상환원금     총상환이자  총연체금액  연체계좌수  근로기간_copy  \n",
       "0      부채 통합             0        0       0.0    0.0    0.0    6_years  \n",
       "1      주택 개선             0   373572  234060.0    0.0    0.0  10p_years  \n",
       "2      부채 통합             0   928644  151944.0    0.0    0.0    5_years  \n",
       "3      부채 통합             0   325824  153108.0    0.0    0.0    8_years  \n",
       "4      주요 구매             0   228540  148956.0    0.0    0.0    Unknown  \n",
       "...      ...           ...      ...       ...    ...    ...        ...  \n",
       "96289  신용 카드             0   974580  492168.0    0.0    0.0  10p_years  \n",
       "96290  주택 개선             0   583728  855084.0    0.0    0.0  10p_years  \n",
       "96291  신용 카드             0  1489128  241236.0    0.0    0.0     1_year  \n",
       "96292  부채 통합             2  1378368  818076.0    0.0    0.0    5_years  \n",
       "96293  신용 카드             0   596148  274956.0    0.0    0.0  10p_years  \n",
       "\n",
       "[96294 rows x 14 columns]"
      ]
     },
     "execution_count": 1075,
     "metadata": {},
     "output_type": "execute_result"
    }
   ],
   "source": [
    "train_ft"
   ]
  },
  {
   "cell_type": "code",
   "execution_count": 1076,
   "id": "34852099-e240-412a-aa4f-a0593ae859a2",
   "metadata": {},
   "outputs": [],
   "source": [
    "근로기간_dict = {\n",
    "    \"Unknown\": 1,\n",
    "    \"u_1_year\": 1.5,\n",
    "    \"1_year\": 2,\n",
    "    \"2_years\": 3,\n",
    "    \"3_years\": 4,\n",
    "    \"4_years\": 5,\n",
    "    \"5_years\": 6,\n",
    "    \"6_years\": 7,\n",
    "    \"7_years\": 8,\n",
    "    \"8_years\": 9,\n",
    "    \"9_years\": 10,\n",
    "    \"10p_years\": 11\n",
    "}\n",
    "\n",
    "# '근로기간' 열을 숫자로 변환하여 새로운 열 '근로기간 숫자'를 생성\n",
    "train_ft['근로기간_숫자'] = train_ft['근로기간_copy'].map(근로기간_dict)\n",
    "test_ft['근로기간_숫자'] = test_ft['근로기간_copy'].map(근로기간_dict)"
   ]
  },
  {
   "cell_type": "code",
   "execution_count": 1077,
   "id": "acbf7f03-7138-4ea2-8e34-05fe5178ad31",
   "metadata": {},
   "outputs": [],
   "source": [
    "train_ft.drop('근로기간_copy',axis=1,inplace=True)\n",
    "test_ft.drop('근로기간_copy',axis=1,inplace=True)"
   ]
  },
  {
   "cell_type": "code",
   "execution_count": 1078,
   "id": "b0d47719-d51b-4d0c-861e-e34e0c530047",
   "metadata": {},
   "outputs": [
    {
     "data": {
      "text/html": [
       "<div>\n",
       "<style scoped>\n",
       "    .dataframe tbody tr th:only-of-type {\n",
       "        vertical-align: middle;\n",
       "    }\n",
       "\n",
       "    .dataframe tbody tr th {\n",
       "        vertical-align: top;\n",
       "    }\n",
       "\n",
       "    .dataframe thead th {\n",
       "        text-align: right;\n",
       "    }\n",
       "</style>\n",
       "<table border=\"1\" class=\"dataframe\">\n",
       "  <thead>\n",
       "    <tr style=\"text-align: right;\">\n",
       "      <th></th>\n",
       "      <th>대출금액</th>\n",
       "      <th>대출기간</th>\n",
       "      <th>근로기간</th>\n",
       "      <th>주택소유상태</th>\n",
       "      <th>연간소득</th>\n",
       "      <th>부채_대비_소득_비율</th>\n",
       "      <th>총계좌수</th>\n",
       "      <th>대출목적</th>\n",
       "      <th>최근_2년간_연체_횟수</th>\n",
       "      <th>총상환원금</th>\n",
       "      <th>총상환이자</th>\n",
       "      <th>총연체금액</th>\n",
       "      <th>연체계좌수</th>\n",
       "      <th>근로기간_숫자</th>\n",
       "    </tr>\n",
       "  </thead>\n",
       "  <tbody>\n",
       "    <tr>\n",
       "      <th>0</th>\n",
       "      <td>12480000</td>\n",
       "      <td>36 months</td>\n",
       "      <td>6</td>\n",
       "      <td>RENT</td>\n",
       "      <td>72000000</td>\n",
       "      <td>18.90</td>\n",
       "      <td>15</td>\n",
       "      <td>부채 통합</td>\n",
       "      <td>0</td>\n",
       "      <td>0</td>\n",
       "      <td>0.0</td>\n",
       "      <td>0.0</td>\n",
       "      <td>0.0</td>\n",
       "      <td>7.0</td>\n",
       "    </tr>\n",
       "    <tr>\n",
       "      <th>1</th>\n",
       "      <td>14400000</td>\n",
       "      <td>60 months</td>\n",
       "      <td>10</td>\n",
       "      <td>MORTGAGE</td>\n",
       "      <td>130800000</td>\n",
       "      <td>22.33</td>\n",
       "      <td>21</td>\n",
       "      <td>주택 개선</td>\n",
       "      <td>0</td>\n",
       "      <td>373572</td>\n",
       "      <td>234060.0</td>\n",
       "      <td>0.0</td>\n",
       "      <td>0.0</td>\n",
       "      <td>11.0</td>\n",
       "    </tr>\n",
       "    <tr>\n",
       "      <th>2</th>\n",
       "      <td>12000000</td>\n",
       "      <td>36 months</td>\n",
       "      <td>5</td>\n",
       "      <td>MORTGAGE</td>\n",
       "      <td>96000000</td>\n",
       "      <td>8.60</td>\n",
       "      <td>14</td>\n",
       "      <td>부채 통합</td>\n",
       "      <td>0</td>\n",
       "      <td>928644</td>\n",
       "      <td>151944.0</td>\n",
       "      <td>0.0</td>\n",
       "      <td>0.0</td>\n",
       "      <td>6.0</td>\n",
       "    </tr>\n",
       "    <tr>\n",
       "      <th>3</th>\n",
       "      <td>14400000</td>\n",
       "      <td>36 months</td>\n",
       "      <td>8</td>\n",
       "      <td>MORTGAGE</td>\n",
       "      <td>132000000</td>\n",
       "      <td>15.09</td>\n",
       "      <td>15</td>\n",
       "      <td>부채 통합</td>\n",
       "      <td>0</td>\n",
       "      <td>325824</td>\n",
       "      <td>153108.0</td>\n",
       "      <td>0.0</td>\n",
       "      <td>0.0</td>\n",
       "      <td>9.0</td>\n",
       "    </tr>\n",
       "    <tr>\n",
       "      <th>4</th>\n",
       "      <td>18000000</td>\n",
       "      <td>60 months</td>\n",
       "      <td>10</td>\n",
       "      <td>RENT</td>\n",
       "      <td>71736000</td>\n",
       "      <td>25.39</td>\n",
       "      <td>19</td>\n",
       "      <td>주요 구매</td>\n",
       "      <td>0</td>\n",
       "      <td>228540</td>\n",
       "      <td>148956.0</td>\n",
       "      <td>0.0</td>\n",
       "      <td>0.0</td>\n",
       "      <td>1.0</td>\n",
       "    </tr>\n",
       "    <tr>\n",
       "      <th>...</th>\n",
       "      <td>...</td>\n",
       "      <td>...</td>\n",
       "      <td>...</td>\n",
       "      <td>...</td>\n",
       "      <td>...</td>\n",
       "      <td>...</td>\n",
       "      <td>...</td>\n",
       "      <td>...</td>\n",
       "      <td>...</td>\n",
       "      <td>...</td>\n",
       "      <td>...</td>\n",
       "      <td>...</td>\n",
       "      <td>...</td>\n",
       "      <td>...</td>\n",
       "    </tr>\n",
       "    <tr>\n",
       "      <th>96289</th>\n",
       "      <td>14400000</td>\n",
       "      <td>36 months</td>\n",
       "      <td>10</td>\n",
       "      <td>MORTGAGE</td>\n",
       "      <td>210000000</td>\n",
       "      <td>9.33</td>\n",
       "      <td>33</td>\n",
       "      <td>신용 카드</td>\n",
       "      <td>0</td>\n",
       "      <td>974580</td>\n",
       "      <td>492168.0</td>\n",
       "      <td>0.0</td>\n",
       "      <td>0.0</td>\n",
       "      <td>11.0</td>\n",
       "    </tr>\n",
       "    <tr>\n",
       "      <th>96290</th>\n",
       "      <td>28800000</td>\n",
       "      <td>60 months</td>\n",
       "      <td>10</td>\n",
       "      <td>MORTGAGE</td>\n",
       "      <td>132000000</td>\n",
       "      <td>5.16</td>\n",
       "      <td>25</td>\n",
       "      <td>주택 개선</td>\n",
       "      <td>0</td>\n",
       "      <td>583728</td>\n",
       "      <td>855084.0</td>\n",
       "      <td>0.0</td>\n",
       "      <td>0.0</td>\n",
       "      <td>11.0</td>\n",
       "    </tr>\n",
       "    <tr>\n",
       "      <th>96291</th>\n",
       "      <td>14400000</td>\n",
       "      <td>36 months</td>\n",
       "      <td>1</td>\n",
       "      <td>MORTGAGE</td>\n",
       "      <td>84000000</td>\n",
       "      <td>11.24</td>\n",
       "      <td>22</td>\n",
       "      <td>신용 카드</td>\n",
       "      <td>0</td>\n",
       "      <td>1489128</td>\n",
       "      <td>241236.0</td>\n",
       "      <td>0.0</td>\n",
       "      <td>0.0</td>\n",
       "      <td>2.0</td>\n",
       "    </tr>\n",
       "    <tr>\n",
       "      <th>96292</th>\n",
       "      <td>15600000</td>\n",
       "      <td>36 months</td>\n",
       "      <td>5</td>\n",
       "      <td>MORTGAGE</td>\n",
       "      <td>66330000</td>\n",
       "      <td>17.30</td>\n",
       "      <td>21</td>\n",
       "      <td>부채 통합</td>\n",
       "      <td>2</td>\n",
       "      <td>1378368</td>\n",
       "      <td>818076.0</td>\n",
       "      <td>0.0</td>\n",
       "      <td>0.0</td>\n",
       "      <td>6.0</td>\n",
       "    </tr>\n",
       "    <tr>\n",
       "      <th>96293</th>\n",
       "      <td>8640000</td>\n",
       "      <td>36 months</td>\n",
       "      <td>10</td>\n",
       "      <td>RENT</td>\n",
       "      <td>50400000</td>\n",
       "      <td>11.80</td>\n",
       "      <td>14</td>\n",
       "      <td>신용 카드</td>\n",
       "      <td>0</td>\n",
       "      <td>596148</td>\n",
       "      <td>274956.0</td>\n",
       "      <td>0.0</td>\n",
       "      <td>0.0</td>\n",
       "      <td>11.0</td>\n",
       "    </tr>\n",
       "  </tbody>\n",
       "</table>\n",
       "<p>96294 rows × 14 columns</p>\n",
       "</div>"
      ],
      "text/plain": [
       "           대출금액        대출기간  근로기간    주택소유상태       연간소득  부채_대비_소득_비율  총계좌수  \\\n",
       "0      12480000   36 months     6      RENT   72000000        18.90    15   \n",
       "1      14400000   60 months    10  MORTGAGE  130800000        22.33    21   \n",
       "2      12000000   36 months     5  MORTGAGE   96000000         8.60    14   \n",
       "3      14400000   36 months     8  MORTGAGE  132000000        15.09    15   \n",
       "4      18000000   60 months    10      RENT   71736000        25.39    19   \n",
       "...         ...         ...   ...       ...        ...          ...   ...   \n",
       "96289  14400000   36 months    10  MORTGAGE  210000000         9.33    33   \n",
       "96290  28800000   60 months    10  MORTGAGE  132000000         5.16    25   \n",
       "96291  14400000   36 months     1  MORTGAGE   84000000        11.24    22   \n",
       "96292  15600000   36 months     5  MORTGAGE   66330000        17.30    21   \n",
       "96293   8640000   36 months    10      RENT   50400000        11.80    14   \n",
       "\n",
       "        대출목적  최근_2년간_연체_횟수    총상환원금     총상환이자  총연체금액  연체계좌수  근로기간_숫자  \n",
       "0      부채 통합             0        0       0.0    0.0    0.0      7.0  \n",
       "1      주택 개선             0   373572  234060.0    0.0    0.0     11.0  \n",
       "2      부채 통합             0   928644  151944.0    0.0    0.0      6.0  \n",
       "3      부채 통합             0   325824  153108.0    0.0    0.0      9.0  \n",
       "4      주요 구매             0   228540  148956.0    0.0    0.0      1.0  \n",
       "...      ...           ...      ...       ...    ...    ...      ...  \n",
       "96289  신용 카드             0   974580  492168.0    0.0    0.0     11.0  \n",
       "96290  주택 개선             0   583728  855084.0    0.0    0.0     11.0  \n",
       "96291  신용 카드             0  1489128  241236.0    0.0    0.0      2.0  \n",
       "96292  부채 통합             2  1378368  818076.0    0.0    0.0      6.0  \n",
       "96293  신용 카드             0   596148  274956.0    0.0    0.0     11.0  \n",
       "\n",
       "[96294 rows x 14 columns]"
      ]
     },
     "execution_count": 1078,
     "metadata": {},
     "output_type": "execute_result"
    }
   ],
   "source": [
    "train_ft"
   ]
  },
  {
   "cell_type": "code",
   "execution_count": 1079,
   "id": "982697c9-fb8e-4fe0-8cd6-e42089b0f79b",
   "metadata": {},
   "outputs": [],
   "source": [
    "train_ft['대출기간'] = train_ft['대출기간'].str.strip().replace('months', '', regex=True).astype(float)\n",
    "test_ft['대출기간'] = test_ft['대출기간'].str.strip().replace('months', '', regex=True).astype(float)\n"
   ]
  },
  {
   "cell_type": "code",
   "execution_count": 1080,
   "id": "fee514a7-a809-4f44-b05b-cac361704eb8",
   "metadata": {},
   "outputs": [],
   "source": [
    "epsilon = 1e-8"
   ]
  },
  {
   "cell_type": "markdown",
   "id": "f0d798ff-57d3-4af4-9f2a-377eaa55362e",
   "metadata": {},
   "source": [
    "# 연체여부"
   ]
  },
  {
   "cell_type": "code",
   "execution_count": 1081,
   "id": "fa5ba407-0a34-4309-8843-91511dd2e0a9",
   "metadata": {},
   "outputs": [],
   "source": [
    "train_ft['연체여부'] = (train_ft['총연체금액'] > 0).astype(int)\n",
    "test_ft['연체여부'] = (test_ft['총연체금액'] > 0).astype(int)"
   ]
  },
  {
   "cell_type": "code",
   "execution_count": 1082,
   "id": "5232d66c-665f-4f3a-b44b-9e4feddd6eeb",
   "metadata": {},
   "outputs": [],
   "source": [
    "\n",
    "train_ft['총연체금액/(총상환원금+총상환이자)'] = train_ft.apply(lambda row: row['총연체금액'] / (row['총상환원금'] + row['총상환이자'] + epsilon) if row['연체여부'] == 1 else 0, axis=1)\n",
    "test_ft['총연체금액/(총상환원금+총상환이자)'] = test_ft.apply(lambda row: row['총연체금액'] / (row['총상환원금'] + row['총상환이자'] + epsilon) if row['연체여부'] == 1 else 0, axis=1)\n"
   ]
  },
  {
   "cell_type": "code",
   "execution_count": 1083,
   "id": "fc927f4e-85e9-4fe4-bd14-d6aba98a06cd",
   "metadata": {},
   "outputs": [],
   "source": [
    "\n",
    "train_ft['대출금액/통합&신용카드'] = train_ft.apply(\n",
    "    lambda row: row['대출금액'] / (row.loc['총연체금액'] + epsilon) if row['대출목적'] in ['부채 통합', '신용 카드'] and row['총연체금액'] > 0 else epsilon,\n",
    "    axis=1\n",
    ")\n",
    "\n",
    "test_ft['대출금액/통합&신용카드'] = test_ft.apply(\n",
    "    lambda row: row['대출금액'] / (row.loc['총연체금액'] + epsilon) if row['대출목적'] in ['부채 통합', '신용 카드'] and row['총연체금액'] > 0 else epsilon,\n",
    "    axis=1\n",
    ")\n"
   ]
  },
  {
   "cell_type": "code",
   "execution_count": 1084,
   "id": "5d8e0e5e-652e-46ed-82d7-990677d69d48",
   "metadata": {},
   "outputs": [],
   "source": [
    "# '대출목적'이 '이사', '소규모 사업', '기타', '자동차', '주요 구매', '주택', '주택 개선' 중 하나인 경우에만 계산 수행\n",
    "train_ft['대출금액|낮은등급_대출목적_연체여부'] = train_ft.apply(\n",
    "    lambda row: row['대출금액'] if row['대출목적'] in ['이사', '소규모 사업', '기타', '자동차', '주요 구매', '주택', '주택 개선'] and row['연체여부'] == 1 else 0,\n",
    "    axis=1\n",
    ")\n",
    "\n",
    "test_ft['대출금액|낮은등급_대출목적_연체여부'] = test_ft.apply(\n",
    "    lambda row: row['대출금액'] if row['대출목적'] in ['이사', '소규모 사업', '기타', '자동차', '주요 구매', '주택', '주택 개선'] and row['연체여부'] == 1 else 0,\n",
    "    axis=1\n",
    ")\n"
   ]
  },
  {
   "cell_type": "markdown",
   "id": "704c5820-6925-4dc8-bd7a-a2f9778b9e0d",
   "metadata": {},
   "source": [
    "# 주택 관련"
   ]
  },
  {
   "cell_type": "markdown",
   "id": "ed461c6b-2b07-4cae-9430-a98738b426ca",
   "metadata": {},
   "source": [
    "# 계좌수 관련 "
   ]
  },
  {
   "cell_type": "code",
   "execution_count": 1085,
   "id": "15b699c1-c791-434d-9836-c8bbcb64a2da",
   "metadata": {},
   "outputs": [],
   "source": [
    "train_ft['대출금액/총계좌수'] = train_ft['대출금액'] / train_ft['총계좌수']\n",
    "test_ft['대출금액/총계좌수'] = test_ft['대출금액'] / test_ft['총계좌수']\n"
   ]
  },
  {
   "cell_type": "code",
   "execution_count": 1086,
   "id": "987342a4-de45-49ad-8fa2-a52c60bd48f6",
   "metadata": {},
   "outputs": [],
   "source": [
    "train_ft['연체관련지표'] = (train_ft['최근_2년간_연체_횟수'] + train_ft['총연체금액'] + train_ft['연체계좌수']) / 3\n",
    "test_ft['연체관련지표'] = (test_ft['최근_2년간_연체_횟수'] + test_ft['총연체금액'] + test_ft['연체계좌수']) / 3\n"
   ]
  },
  {
   "cell_type": "code",
   "execution_count": 1087,
   "id": "0b42db20-e28c-45f8-bca0-4053942fcda5",
   "metadata": {},
   "outputs": [],
   "source": [
    "\n",
    "train_ft['Delinquent_Account_Ratio'] = train_ft['연체계좌수'] / train_ft['총계좌수']\n",
    "test_ft['Delinquent_Account_Ratio'] = test_ft['연체계좌수'] / test_ft['총계좌수']\n"
   ]
  },
  {
   "cell_type": "code",
   "execution_count": 1088,
   "id": "83d386f1-2926-4cc3-afc9-be89fdfc26a1",
   "metadata": {},
   "outputs": [],
   "source": [
    "# Create a new binary feature based on '연체계좌수'\n",
    "train_ft['Delinquent_Accounts_2_or_More'] = -1*(train_ft['연체계좌수'] >= 2).astype(int)\n",
    "test_ft['Delinquent_Accounts_2_or_More'] = -1*(test_ft['연체계좌수'] >= 2).astype(int)\n"
   ]
  },
  {
   "cell_type": "markdown",
   "id": "a631be6b-ed6a-43fb-9d66-492bd7b8aea8",
   "metadata": {},
   "source": [
    "# 대출금액 관련"
   ]
  },
  {
   "cell_type": "code",
   "execution_count": 1089,
   "id": "9d9f1f12-9e1a-4b26-9e08-66ea9dc9bff3",
   "metadata": {},
   "outputs": [],
   "source": [
    "train_ft['대출금액/대출기간'] = train_ft['대출금액'] / train_ft['대출기간']\n",
    "test_ft['대출금액/대출기간'] = test_ft['대출금액'] / test_ft['대출기간']\n"
   ]
  },
  {
   "cell_type": "code",
   "execution_count": 1090,
   "id": "23134fe4-5555-4bec-823b-b989068f76bc",
   "metadata": {},
   "outputs": [],
   "source": [
    "train_ft['연간소득/대출금액'] = train_ft['연간소득'] / train_ft['대출금액']\n",
    "test_ft['연간소득/대출금액'] = test_ft['연간소득'] / test_ft['대출금액']"
   ]
  },
  {
   "cell_type": "code",
   "execution_count": 1091,
   "id": "3db47eed-eeb1-499a-ab28-ba29ae7aa462",
   "metadata": {},
   "outputs": [],
   "source": [
    "train_ft['(연간소득/대출금액)/대출기간_숫자']  = train_ft['연간소득/대출금액'] / train_ft['대출기간'] \n",
    "test_ft['(연간소득/대출금액)/대출기간_숫자']  = test_ft['연간소득/대출금액'] / test_ft['대출기간'] "
   ]
  },
  {
   "cell_type": "markdown",
   "id": "d52abc2b-a895-4555-a2b6-bafe81d9671a",
   "metadata": {},
   "source": [
    "## 상환원금 관련 피처"
   ]
  },
  {
   "cell_type": "code",
   "execution_count": 1092,
   "id": "73be9bc4-7769-4c31-9759-543fcd6209af",
   "metadata": {},
   "outputs": [],
   "source": [
    "train_ft['총상환원금/대출금액'] = train_ft['총상환원금'] / train_ft['대출금액']\n",
    "test_ft['총상환원금/대출금액'] = test_ft['총상환원금'] / test_ft['대출금액']"
   ]
  },
  {
   "cell_type": "code",
   "execution_count": 1093,
   "id": "f9be532c-a1a6-4e56-8c55-bc0709fe53e7",
   "metadata": {},
   "outputs": [],
   "source": [
    "train_ft['총연체금액/대출기간']  = train_ft['총연체금액'] / train_ft['대출기간'] \n",
    "test_ft['총연체금액/대출기간']  = test_ft['총연체금액'] / test_ft['대출기간'] "
   ]
  },
  {
   "cell_type": "code",
   "execution_count": 1094,
   "id": "19259dce-aa40-4906-bd48-c6357c3da5f0",
   "metadata": {},
   "outputs": [],
   "source": [
    "train_ft['(총상환원금/대출금액)*(총연체금액/대출기간)']=(train_ft['총상환원금/대출금액'] *train_ft['총연체금액/대출기간'] )\n",
    "test_ft['(총상환원금/대출금액)*(총연체금액/대출기간)']=(test_ft['총상환원금/대출금액'] *test_ft['총연체금액/대출기간'] )"
   ]
  },
  {
   "cell_type": "code",
   "execution_count": 1095,
   "id": "77117219-7c7f-4bde-9280-89dfd5010e03",
   "metadata": {},
   "outputs": [],
   "source": [
    "train_ft['총상환이자/대출금액'] = train_ft['총상환이자'] / train_ft['대출금액']\n",
    "test_ft['총상환이자/대출금액'] = test_ft['총상환이자'] / test_ft['대출금액']"
   ]
  },
  {
   "cell_type": "code",
   "execution_count": 1096,
   "id": "ad48b866-cf4a-4093-8000-b5ac44c13587",
   "metadata": {},
   "outputs": [],
   "source": [
    "train_ft['(총상환이자/대출금액)*(총연체금액/대출기간)'] = train_ft['총상환이자/대출금액']*train_ft['총연체금액/대출기간']\n",
    "test_ft['(총상환이자/대출금액)*(총연체금액/대출기간)'] =test_ft['총상환이자/대출금액']*test_ft['총연체금액/대출기간']"
   ]
  },
  {
   "cell_type": "code",
   "execution_count": 1097,
   "id": "22aa666d-4fc9-411f-a87b-1023aefff424",
   "metadata": {},
   "outputs": [],
   "source": [
    "train_ft['총상환이자/총상환원금'] = train_ft['총상환이자']/ (train_ft['총상환원금']+epsilon)\n",
    "test_ft['총상환이자/총상환원금'] = test_ft['총상환이자'] / (test_ft['총상환원금']+epsilon)"
   ]
  },
  {
   "cell_type": "code",
   "execution_count": 1098,
   "id": "1712d1ea-be7f-4d5b-93ac-416d4fce9949",
   "metadata": {},
   "outputs": [],
   "source": [
    "train_ft['부채금액'] = train_ft['대출금액'] - train_ft['총상환원금']\n",
    "test_ft['부채금액'] = test_ft['대출금액'] - test_ft['총상환원금']"
   ]
  },
  {
   "cell_type": "code",
   "execution_count": 1099,
   "id": "78ce98a7-6768-4a7a-8e3c-ef07594353e5",
   "metadata": {},
   "outputs": [],
   "source": [
    "train_ft['(대출금액+총상환원금-부채금액*총상환이자)/대출기간'] = (train_ft['대출금액']+train_ft['총상환원금']  - train_ft['부채금액']*train_ft['총상환이자'])/train_ft['대출기간']\n",
    "test_ft['(대출금액+총상환원금-부채금액*총상환이자)/대출기간'] = (test_ft['대출금액']+test_ft['총상환원금']  - test_ft['부채금액']*test_ft['총상환이자'])/test_ft['대출기간']"
   ]
  },
  {
   "cell_type": "code",
   "execution_count": 1100,
   "id": "8545ad5c-945b-4c7e-92aa-77347528701f",
   "metadata": {},
   "outputs": [],
   "source": [
    "train_ft['총상환원금/총상환이자'] = train_ft['총상환원금'] / (train_ft['총상환이자'] + epsilon)  # 총상환이자가 0인 경우를 방지하기 위해 1을 더함\n",
    "test_ft['총상환원금/총상환이자'] = test_ft['총상환원금'] / (test_ft['총상환이자'] + epsilon)"
   ]
  },
  {
   "cell_type": "code",
   "execution_count": 1101,
   "id": "ae615e66-cd5b-4b1a-b152-7c95451543fa",
   "metadata": {},
   "outputs": [],
   "source": [
    "train_ft['총상환원금*총상환이자/대출금액'] = (train_ft['총상환원금'] * train_ft['총상환이자']) / train_ft['대출금액']\n",
    "test_ft['총상환원금*총상환이자/대출금액'] = (test_ft['총상환원금'] * test_ft['총상환이자']) / test_ft['대출금액']\n"
   ]
  },
  {
   "cell_type": "code",
   "execution_count": 1102,
   "id": "dd207948-eb4a-4d8d-87aa-906ef401f675",
   "metadata": {},
   "outputs": [],
   "source": [
    "train_ft['총상환원금*총상환이자/부채금액'] = (train_ft['총상환원금'] * train_ft['총상환이자']) / (train_ft['부채금액'] + epsilon)  # 부채금액이 0인 경우를 방지하기 위해 1을 더함\n",
    "test_ft['총상환원금*총상환이자/부채금액'] = (test_ft['총상환원금'] + test_ft['총상환이자']) / (test_ft['부채금액'] + epsilon)"
   ]
  },
  {
   "cell_type": "code",
   "execution_count": 1103,
   "id": "e1a29762-4a7d-4d81-8d20-d5bbd40169a2",
   "metadata": {},
   "outputs": [],
   "source": [
    "train_ft['연간소득/(대출금액+총상환원금)'] = train_ft['연간소득'] / (train_ft['대출금액'] + train_ft['총상환원금'])\n",
    "test_ft['연간소득/(대출금액+총상환원금)'] = test_ft['연간소득'] / (test_ft['대출금액'] + test_ft['총상환원금'])"
   ]
  },
  {
   "cell_type": "code",
   "execution_count": 1104,
   "id": "3f1e30c9-3fcb-4220-813c-2ddd2d46c5e1",
   "metadata": {},
   "outputs": [],
   "source": [
    "train_ft['총상환원금/총계좌수'] =train_ft['총상환원금']/train_ft['총계좌수'] \n",
    "test_ft['총상환원금/총계좌수'] = test_ft['총상환원금']/test_ft['총계좌수'] "
   ]
  },
  {
   "cell_type": "code",
   "execution_count": 1105,
   "id": "c6508513-246e-40a6-bad8-72d0fde75cb2",
   "metadata": {},
   "outputs": [],
   "source": [
    "train_ft['(총상환원금/대출금액)/총계좌수'] = train_ft['총상환원금/대출금액'] / train_ft['총계좌수']\n",
    "test_ft['(총상환원금/대출금액)/총계좌수'] = test_ft['총상환원금/대출금액'] / test_ft['총계좌수']"
   ]
  },
  {
   "cell_type": "code",
   "execution_count": null,
   "id": "2f7cb77a-6d72-4d56-b954-830209964893",
   "metadata": {},
   "outputs": [],
   "source": []
  },
  {
   "cell_type": "markdown",
   "id": "a9cc40fb-6cf5-487b-bf8c-71ddb397e9d4",
   "metadata": {},
   "source": [
    "## 수학 공식 피처"
   ]
  },
  {
   "cell_type": "code",
   "execution_count": 1106,
   "id": "4d48b369-af21-4f02-a28d-9c0a7d600b32",
   "metadata": {},
   "outputs": [],
   "source": [
    "def calculate_altman_z_score(row):\n",
    "    # 각 피처의 비율 계산\n",
    "    working_capital_ratio = row['근로기간'] / row['대출금액']\n",
    "    retained_earnings_ratio = row['총상환원금'] / row['대출금액']\n",
    "    total_accounts_ratio = row['총계좌수'] / row['대출금액']\n",
    "    delinquent_accounts_ratio = row['연체계좌수'] / row['대출금액']\n",
    "    total_delinquency_ratio = row['총연체금액'] / row['대출금액']\n",
    "\n",
    "    # Altman Z-Score 계산\n",
    "    altman_z_score = 1.2 * working_capital_ratio + 1.4 * retained_earnings_ratio + 3.3 * total_accounts_ratio + 0.6 * delinquent_accounts_ratio + 1.0 * total_delinquency_ratio\n",
    "\n",
    "    return altman_z_score\n",
    "\n",
    "\n",
    "train_ft['Altman_Z_Score'] = train_ft.apply(calculate_altman_z_score, axis=1)\n",
    "test_ft['Altman_Z_Score'] = test_ft.apply(calculate_altman_z_score, axis=1)"
   ]
  },
  {
   "cell_type": "code",
   "execution_count": 1107,
   "id": "895bd0a8-16ea-4950-b393-c3c6b9f1e23b",
   "metadata": {},
   "outputs": [],
   "source": [
    "train_ft['DTI'] = (train_ft['대출금액'] + train_ft['총상환원금'] - (train_ft['부채금액'] * train_ft['총상환이자'])) / train_ft['대출기간']\n",
    "test_ft['DTI'] = (test_ft['대출금액'] + test_ft['총상환원금'] - (test_ft['부채금액'] * test_ft['총상환이자'])) / test_ft['대출기간']"
   ]
  },
  {
   "cell_type": "code",
   "execution_count": 1108,
   "id": "8fe47261-f016-42fa-9443-4ae39a24041f",
   "metadata": {
    "scrolled": true
   },
   "outputs": [],
   "source": [
    "# 재정 건강 점수\n",
    "# 소득이 높고 부채 비율이 낮으며 금융 계정의 다양성이 높은 차용자에게 더 높은 점수르 제공하여 잠재적으로 더 나은 재무 건정성을 나타냅니다.\n",
    "\n",
    "train_ft['재정_건강_점수'] = (train_ft['연간소득'] * (1 - train_ft['DTI']) * train_ft['총계좌수']) / 1000\n",
    "test_ft['재정_건강_점수'] = (test_ft['연간소득'] * (1 - test_ft['DTI']) * test_ft['총계좌수']) / 1000"
   ]
  },
  {
   "cell_type": "code",
   "execution_count": 1109,
   "id": "6cd53fa6-e1f0-499a-8cba-400ff9d32019",
   "metadata": {},
   "outputs": [],
   "source": [
    "train_ft['금융_다양성_지수'] = (train_ft['총계좌수'] * train_ft['연간소득']) / (train_ft['DTI'])\n",
    "test_ft['금융_다양성_지수'] = (test_ft['총계좌수'] * test_ft['연간소득']) / (test_ft['DTI'])"
   ]
  },
  {
   "cell_type": "code",
   "execution_count": 1110,
   "id": "8df17d48-6958-46b2-b5fb-a0c786b7dde2",
   "metadata": {},
   "outputs": [],
   "source": [
    "# 재무 안정성 점수\n",
    "# 재무 안정성 점수가 높을수록 소득과 차용인의 원금 상환 내역을 모두 고려하여 보다 안정적인 재무 상태를 시사\n",
    "\n",
    "train_ft['재무_안정성_점수'] = (train_ft['연간소득'] + train_ft['총상환원금'])/(train_ft['총계좌수'])\n",
    "test_ft['재무_안정성_점수'] = (test_ft['연간소득'] + test_ft['총상환원금'])/(test_ft['총계좌수'])"
   ]
  },
  {
   "cell_type": "markdown",
   "id": "fe3759c9-8b30-4fdd-b35b-4ae62890aab0",
   "metadata": {},
   "source": [
    "## 연간소득 관련"
   ]
  },
  {
   "cell_type": "code",
   "execution_count": 1111,
   "id": "89057fd2-8159-4640-b9b0-b7e53727c5c9",
   "metadata": {},
   "outputs": [],
   "source": [
    "train_ft['부채상환능력'] = (train_ft['총상환원금'] * train_ft['총상환이자']) / (train_ft['연간소득']+epsilon)\n",
    "test_ft['부채상환능력'] = (test_ft['총상환원금'] * test_ft['총상환이자']) / (test_ft['연간소득']+epsilon)\n"
   ]
  },
  {
   "cell_type": "code",
   "execution_count": 1112,
   "id": "b9bdcf52-b610-4b1d-867d-98cbe5706fd7",
   "metadata": {},
   "outputs": [],
   "source": [
    "train_ft['대출금액/연간소득'] = train_ft['대출금액'] / (train_ft['연간소득']+epsilon)\n",
    "test_ft['대출금액/연간소득'] = test_ft['대출금액'] / (train_ft['연간소득']+epsilon)"
   ]
  },
  {
   "cell_type": "code",
   "execution_count": 1113,
   "id": "f7bd7101-5129-4008-a19d-d87509e2e9e1",
   "metadata": {},
   "outputs": [],
   "source": [
    "train_ft['(연간소득/총계좌수)+(총연체금액/연체계좌수)'] = (train_ft['연간소득']/train_ft['총계좌수'])+ (train_ft['총연체금액']/(train_ft['연체계좌수']+epsilon))\n",
    "test_ft['(연간소득/총계좌수)+(총연체금액/연체계좌수)'] = (test_ft['연간소득']/test_ft['총계좌수'])+  (test_ft['총연체금액']/(test_ft['연체계좌수']+epsilon))"
   ]
  },
  {
   "cell_type": "code",
   "execution_count": 1114,
   "id": "a4d7cb12-7b59-463a-b3e9-15b5f95e02da",
   "metadata": {},
   "outputs": [
    {
     "data": {
      "text/plain": [
       "array([ 0,  1,  9, 11,  6,  2,  3,  4,  5, 14,  8,  7, 16, 10, 13, 12, 18,\n",
       "       17, 30, 15])"
      ]
     },
     "execution_count": 1114,
     "metadata": {},
     "output_type": "execute_result"
    }
   ],
   "source": [
    "train_ft['최근_2년간_연체_횟수'].unique()"
   ]
  },
  {
   "cell_type": "code",
   "execution_count": 1115,
   "id": "86a7b641-e56d-48c9-96c5-ab1a10c87327",
   "metadata": {},
   "outputs": [],
   "source": [
    "train_ft['최근_2년간_연체_횟수*(총연체금액+(총상환원금*상환이자))'] = train_ft['최근_2년간_연체_횟수']*(train_ft['총연체금액']+(train_ft['총상환원금']*train_ft['총상환이자']))\n",
    "test_ft['최근_2년간_연체_횟수*(총연체금액+(총상환원금*상환이자))'] = test_ft['최근_2년간_연체_횟수']*(train_ft['총연체금액']+(train_ft['총상환원금']*train_ft['총상환이자']))"
   ]
  },
  {
   "cell_type": "code",
   "execution_count": 1116,
   "id": "d53db1bb-db39-4189-b11b-2f4e8b1f5497",
   "metadata": {},
   "outputs": [],
   "source": [
    "train_ft['총상환이자/연간소득'] = train_ft['총상환이자']+epsilon / (train_ft['연간소득']+epsilon)\n",
    "test_ft['총상환이자/연간소득'] = test_ft['총상환이자']+epsilon /( test_ft['연간소득']+epsilon)"
   ]
  },
  {
   "cell_type": "markdown",
   "id": "ad355e1d-728c-4789-88f7-1e3e5db534d9",
   "metadata": {},
   "source": [
    "## 분위수 특성"
   ]
  },
  {
   "cell_type": "code",
   "execution_count": 1117,
   "id": "2b527176-45c5-4bda-b14b-efcb516256c6",
   "metadata": {},
   "outputs": [],
   "source": [
    "# 대출금액 분위수 설정\n",
    "q1,q3 = train_ft['대출금액'].quantile([0.25,0.75])\n",
    "iqr = q3 - q1\n",
    "w = 1.5\n",
    "box_min = q1 - iqr * w\n",
    "box_max = q1 + iqr * w\n",
    "\n",
    "def boxplot(x):\n",
    "    if x < box_min or x >= box_max:\n",
    "        return 0 # x가 이상치의 경우에는 0으로 설정해준다.\n",
    "    elif box_min <= x < q1:\n",
    "        return 1  # x가 Q1보다 크거나 같고 Q1보다 작은 경우\n",
    "    elif q1 <= x < q3:\n",
    "        return 2  # x가 Q1 이상이고 Q3 미만인 경우\n",
    "    elif q3 <= x < box_max:\n",
    "        return 3  # x가 Q3 이상이고 box_max 미만인 경우\n",
    "    else:\n",
    "        return 'Undefined'\n",
    "\n",
    "train_ft['대출금액_분위수'] = train_ft['대출금액'].apply(boxplot)\n",
    "test_ft['대출금액_분위수'] = test_ft['대출금액'].apply(boxplot)"
   ]
  },
  {
   "cell_type": "code",
   "execution_count": 1118,
   "id": "c5303772-e863-497a-995e-1ab1aa04d1de",
   "metadata": {},
   "outputs": [],
   "source": [
    "tmp= train_ft[train_ft['연체계좌수'] == 1].copy()\n",
    "\n",
    "# 대출금액을 새로운 피처로 만들기\n",
    "tmp['대출금액_연체1'] = tmp['대출금액']\n",
    "# 새로운 피처를 기존 데이터프레임에 병합\n",
    "train_ft = pd.merge(train_ft, tmp[['대출금액_연체1']], how='left', left_index=True, right_index=True)\n",
    "\n",
    "train_ft['대출금액_연체1'].fillna(0, inplace=True)\n"
   ]
  },
  {
   "cell_type": "code",
   "execution_count": 1119,
   "id": "3fc355ad-8664-472d-a9ff-ae2500dc1fa0",
   "metadata": {},
   "outputs": [],
   "source": [
    "tmp= test_ft[test_ft['연체계좌수'] == 1].copy()\n",
    "\n",
    "# 대출금액을 새로운 피처로 만들기\n",
    "tmp['대출금액_연체1'] = tmp['대출금액']\n",
    "# 새로운 피처를 기존 데이터프레임에 병합\n",
    "test_ft = pd.merge(test_ft, tmp[['대출금액_연체1']], how='left', left_index=True, right_index=True)\n",
    "\n",
    "test_ft['대출금액_연체1'].fillna(0, inplace=True)"
   ]
  },
  {
   "cell_type": "code",
   "execution_count": 1120,
   "id": "1b452c5e-6598-4afe-b2c4-040d0285cba2",
   "metadata": {},
   "outputs": [],
   "source": [
    "train_ft['(총상환원금/총상환이자)/대출기간'] = train_ft['총상환원금/총상환이자']/train_ft['대출기간']\n",
    "\n",
    "test_ft['(총상환원금/총상환이자)/대출기간'] = test_ft['총상환원금/총상환이자']/test_ft['대출기간']\n"
   ]
  },
  {
   "cell_type": "code",
   "execution_count": 1121,
   "id": "3984ae8d-5411-4f63-a147-ecb8c6df797f",
   "metadata": {},
   "outputs": [],
   "source": [
    "train_ft['상환_대비_이자_비율'] = train_ft.apply(lambda x: x['총상환이자'] / x['총상환원금'] if x['총상환원금'] > 0 else float('nan'), axis=1)\n",
    "max_상환_대비_이자_비율 = train_ft['상환_대비_이자_비율'].max()\n",
    "train_ft['상환_대비_이자_비율'].fillna(max_상환_대비_이자_비율, inplace=True)\n",
    "\n",
    "test_ft['상환_대비_이자_비율'] = test_ft.apply(lambda x: x['총상환이자'] / x['총상환원금'] if x['총상환원금'] > 0 else float('nan'), axis=1)\n",
    "max_상환_대비_이자_비율 = test_ft['상환_대비_이자_비율'].max()\n",
    "test_ft['상환_대비_이자_비율'].fillna(max_상환_대비_이자_비율, inplace=True)"
   ]
  },
  {
   "cell_type": "code",
   "execution_count": 1122,
   "id": "0dc42ca0-2321-4bfd-8937-4765b9302359",
   "metadata": {},
   "outputs": [],
   "source": [
    "train_ft['총상환원금/대출금액'] = train_ft['총상환원금']/train_ft['대출금액']\n",
    "test_ft['총상환원금/대출금액'] = test_ft['총상환원금']/test_ft['대출금액']"
   ]
  },
  {
   "cell_type": "code",
   "execution_count": 1123,
   "id": "54ab4182-7721-4c70-8fd5-66308e465230",
   "metadata": {},
   "outputs": [],
   "source": [
    "train_ft['총상환이자/대출금액'] = train_ft['총상환이자']/train_ft['대출금액']\n",
    "test_ft['총상환이자/대출금액'] = test_ft['총상환이자']/test_ft['대출금액']"
   ]
  },
  {
   "cell_type": "code",
   "execution_count": 1124,
   "id": "5ca6bf75-14bf-4054-95d1-b80ffe409e15",
   "metadata": {},
   "outputs": [],
   "source": [
    "debt_variables = ['총상환원금', '총상환이자', '부채금액']\n",
    "\n",
    "train_ft['총부채'] = train_ft[debt_variables].sum(axis=1)\n",
    "test_ft['총부채'] = test_ft[debt_variables].sum(axis=1)"
   ]
  },
  {
   "cell_type": "code",
   "execution_count": 1125,
   "id": "4b5c1299-d737-49c0-b2b1-6417ba4357f9",
   "metadata": {},
   "outputs": [],
   "source": [
    "train_ft['유동부채']=train_ft['총상환원금'] + train_ft['총상환이자']\n",
    "test_ft['유동부채']= test_ft['총상환원금']+ test_ft['총상환이자']\n",
    "\n",
    "train_ft['이자상환비율']=train_ft['연간소득'] / (train_ft['총상환이자']+epsilon)\n",
    "test_ft['이자상환비율']=test_ft['연간소득'] / (test_ft['총상환이자']+epsilon)\n",
    "\n",
    "train_ft['Quick Ratio'] = train_ft['유동부채'] / (train_ft['대출금액'] + train_ft['총상환원금'] - train_ft['총계좌수'])\n",
    "test_ft['Quick Ratio'] = test_ft['유동부채'] / (test_ft['대출금액'] + test_ft['총상환원금'] - test_ft['총계좌수'])\n",
    "\n",
    "train_ft['유동비율'] = (train_ft['대출금액'] + train_ft['총상환원금']) / (train_ft['유동부채']+epsilon)\n",
    "test_ft['유동비율'] = (test_ft['대출금액'] + test_ft['총상환원금']) / (test_ft['유동부채']+epsilon)\n",
    "\n",
    "train_ft['부채비율'] = train_ft['총부채'] / (train_ft['연간소득']+epsilon)\n",
    "test_ft['부채비율'] = test_ft['총부채'] / (test_ft['연간소득']+epsilon)\n",
    "\n",
    "train_ft['영업활동으로 인한 현금흐름비율'] = train_ft['연간소득'] / train_ft['총부채']\n",
    "test_ft['영업활동으로 인한 현금흐름비율'] = test_ft['연간소득'] / test_ft['총부채']"
   ]
  },
  {
   "cell_type": "code",
   "execution_count": 1126,
   "id": "d50c97bb-ec84-4523-a20e-0972539599ca",
   "metadata": {},
   "outputs": [],
   "source": [
    "train_ft['상환_대비_이자_비율'] = (train_ft['총상환원금'] + train_ft['총상환이자']) / (train_ft['연간소득']+epsilon)\n",
    "test_ft['상환_대비_이자_비율'] = (test_ft['총상환원금'] + test_ft['총상환이자']) / (test_ft['연간소득']+epsilon)\n",
    "\n",
    "train_ft['재정_건강_점수'] = train_ft['Altman_Z_Score'] + train_ft['DTI'] - train_ft['부채_대비_소득_비율']\n",
    "test_ft['재정_건강_점수'] = test_ft['Altman_Z_Score'] + test_ft['DTI'] - test_ft['부채_대비_소득_비율']\n",
    "\n",
    "train_ft['대출금액/연간소득'] = train_ft['대출금액'] / (train_ft['연간소득']+epsilon)\n",
    "test_ft['대출금액/연간소득'] = test_ft['대출금액'] / (test_ft['연간소득']+epsilon)"
   ]
  },
  {
   "cell_type": "code",
   "execution_count": 1127,
   "id": "d0d05d35-0c0b-4d5b-a23c-a6aee61de23f",
   "metadata": {},
   "outputs": [],
   "source": [
    "# 사용 중인 신용카드 한도 근사치 계산\n",
    "train_ft['현제 사용가능 계좌수'] = train_ft['총계좌수'] / (train_ft['연체계좌수']+epsilon)\n",
    "test_ft['현제 사용가능 계좌수'] = test_ft['총계좌수'] / (test_ft['연체계좌수']+epsilon)\n"
   ]
  },
  {
   "cell_type": "code",
   "execution_count": 1128,
   "id": "f1676ff3-654a-4db8-8ec8-ebe33b3c7f53",
   "metadata": {},
   "outputs": [],
   "source": [
    "train_ft['총 신용카드 한도_근사치'] = train_ft['대출금액'] * (train_ft['연간소득'] / (train_ft['대출기간']+epsilon))\n",
    "test_ft['총 신용카드 한도_근사치'] = test_ft['대출금액'] * (test_ft['연간소득'] / (test_ft['대출기간']+epsilon))\n"
   ]
  },
  {
   "cell_type": "code",
   "execution_count": 1129,
   "id": "2b39db7e-a690-4ce7-9df0-f51160f19b21",
   "metadata": {},
   "outputs": [],
   "source": [
    "train_ft['총 신용카드 한도_근사치/현제 사용가능 계좌수']=train_ft['총 신용카드 한도_근사치']/train_ft['현제 사용가능 계좌수']\n",
    "test_ft['총 신용카드 한도_근사치/현제 사용가능 계좌수']=test_ft['총 신용카드 한도_근사치']/test_ft['현제 사용가능 계좌수']"
   ]
  },
  {
   "cell_type": "code",
   "execution_count": 1130,
   "id": "b2b9bdbc-cc2d-4684-ac3b-d20a81ee2239",
   "metadata": {},
   "outputs": [],
   "source": [
    "train_ft['대출금액*현제 사용가능 계좌수']=train_ft['대출금액']*train_ft['현제 사용가능 계좌수']\n",
    "test_ft['대출금액*현제 사용가능 계좌수']=test_ft['대출금액']*test_ft['현제 사용가능 계좌수']"
   ]
  },
  {
   "cell_type": "code",
   "execution_count": 1131,
   "id": "ce84a0f7-f9e6-444c-b38d-41b184d82155",
   "metadata": {},
   "outputs": [],
   "source": [
    "train_ft['총상환원금*현제 사용가능 계좌수']=train_ft['총상환원금']*train_ft['현제 사용가능 계좌수']\n",
    "test_ft['총상환원금*현제 사용가능 계좌수']=test_ft['총상환원금']*test_ft['현제 사용가능 계좌수']"
   ]
  },
  {
   "cell_type": "code",
   "execution_count": 1132,
   "id": "ffce81a3-9a6a-4ba8-ba50-1bcd7d8ada25",
   "metadata": {},
   "outputs": [],
   "source": [
    "train_ft['총상환원금/총상환이자*대출기간']=train_ft['총상환원금/총상환이자']*train_ft['대출기간']\n",
    "test_ft['총상환원금/총상환이자*대출기간']=test_ft['총상환원금/총상환이자']*test_ft['대출기간']"
   ]
  },
  {
   "cell_type": "code",
   "execution_count": 1133,
   "id": "17d1dd34-c391-4fb9-b99e-3c4fd11797c2",
   "metadata": {},
   "outputs": [],
   "source": [
    "train_ft['예상핵심']=train_ft['총상환원금/총상환이자']*train_ft['Altman_Z_Score']\n",
    "test_ft['예상핵심']=test_ft['총상환원금/총상환이자']*test_ft['Altman_Z_Score']"
   ]
  },
  {
   "cell_type": "code",
   "execution_count": 1134,
   "id": "dfd44be1-bea3-44bd-9d55-a73d3b788304",
   "metadata": {},
   "outputs": [],
   "source": [
    "train_ft['예상핵심2']=train_ft['총상환원금/총상환이자']*train_ft['총상환원금/대출금액']\n",
    "test_ft['예상핵심2']=test_ft['총상환원금/총상환이자']*test_ft['총상환원금/대출금액']"
   ]
  },
  {
   "cell_type": "code",
   "execution_count": 1135,
   "id": "a8c9a577-25fc-4320-91fb-55ce2cc1ac9e",
   "metadata": {},
   "outputs": [],
   "source": [
    "train_ft['예상핵심4']=train_ft['총상환원금/총상환이자']*train_ft['Quick Ratio']*train_ft['유동비율']\n",
    "test_ft['예상핵심4']=test_ft['총상환원금/총상환이자']*test_ft['Quick Ratio']*test_ft['유동비율']"
   ]
  },
  {
   "cell_type": "code",
   "execution_count": 1136,
   "id": "7e3cc493-e70d-4250-8cb0-48bd3e04d87f",
   "metadata": {},
   "outputs": [],
   "source": [
    "train_ft['예상핵심5']=train_ft['(총상환원금/총상환이자)/대출기간']*train_ft['총상환원금/총상환이자']\n",
    "test_ft['예상핵심5']=test_ft['(총상환원금/총상환이자)/대출기간']*test_ft['총상환원금/총상환이자']"
   ]
  },
  {
   "cell_type": "code",
   "execution_count": 1137,
   "id": "b3b6f342-84d9-4cbf-883b-28f9c7113f68",
   "metadata": {},
   "outputs": [],
   "source": [
    "train_ft['예상핵심6']=train_ft['총상환원금/총상환이자']*train_ft['유동비율']\n",
    "test_ft['예상핵심6']=test_ft['총상환원금/총상환이자']*test_ft['유동비율']"
   ]
  },
  {
   "cell_type": "code",
   "execution_count": 1138,
   "id": "20301afe-9b6a-4150-a7a8-6dac36ec6120",
   "metadata": {},
   "outputs": [],
   "source": [
    "train_ft['예상핵심7']=train_ft['총상환원금/총상환이자']*train_ft['Quick Ratio']\n",
    "test_ft['예상핵심7']=test_ft['총상환원금/총상환이자']*test_ft['Quick Ratio']"
   ]
  },
  {
   "cell_type": "code",
   "execution_count": 1139,
   "id": "53f666f0-7c7a-4e1c-9b51-de65b6898528",
   "metadata": {},
   "outputs": [],
   "source": [
    "train_ft['예상핵심8']=train_ft['총상환원금/총상환이자']/train_ft['Altman_Z_Score']\n",
    "test_ft['예상핵심8']=test_ft['총상환원금/총상환이자']/test_ft['Altman_Z_Score']"
   ]
  },
  {
   "cell_type": "code",
   "execution_count": 1141,
   "id": "f780ac35-470f-4a8e-a446-d647846baa60",
   "metadata": {},
   "outputs": [],
   "source": [
    "train_ft['예상핵심9']=train_ft['총상환이자']*train_ft['총상환원금']\t\n",
    "test_ft['예상핵심9']=test_ft['총상환이자']*test_ft['총상환원금']"
   ]
  },
  {
   "cell_type": "code",
   "execution_count": 1142,
   "id": "9cbe2957-7111-41ec-b042-1704b0f8f71c",
   "metadata": {},
   "outputs": [],
   "source": [
    "train_ft['예상핵심10']= train_ft['예상핵심9']*train_ft['대출기간']\n",
    "test_ft['예상핵심10']=test_ft['예상핵심9']*test_ft['대출기간']"
   ]
  },
  {
   "cell_type": "code",
   "execution_count": 1143,
   "id": "97e73aa2-63fd-43ef-a606-dc127ea635a4",
   "metadata": {},
   "outputs": [],
   "source": [
    "train_ft['예상핵심11']=train_ft['총상환원금']*train_ft['총상환이자']\n",
    "test_ft['예상핵심11']=test_ft['총상환원금']*test_ft['총상환이자']"
   ]
  },
  {
   "cell_type": "code",
   "execution_count": 1144,
   "id": "f57d2daa-c579-46ce-b4b8-b547373e1665",
   "metadata": {},
   "outputs": [
    {
     "data": {
      "text/plain": [
       "[]"
      ]
     },
     "execution_count": 1144,
     "metadata": {},
     "output_type": "execute_result"
    }
   ],
   "source": [
    "mask = (train_ft == np.inf).sum(0) > 0\n",
    "train_ft.columns[mask].to_list()"
   ]
  },
  {
   "cell_type": "code",
   "execution_count": 1145,
   "id": "ac60be61-4296-4411-8589-537f0a1bf9a4",
   "metadata": {},
   "outputs": [
    {
     "data": {
      "text/plain": [
       "['대출금액',\n",
       " '대출기간',\n",
       " '근로기간',\n",
       " '주택소유상태',\n",
       " '연간소득',\n",
       " '부채_대비_소득_비율',\n",
       " '총계좌수',\n",
       " '대출목적',\n",
       " '최근_2년간_연체_횟수',\n",
       " '총상환원금',\n",
       " '총상환이자',\n",
       " '총연체금액',\n",
       " '연체계좌수',\n",
       " '근로기간_숫자',\n",
       " '연체여부',\n",
       " '총연체금액/(총상환원금+총상환이자)',\n",
       " '대출금액/통합&신용카드',\n",
       " '대출금액|낮은등급_대출목적_연체여부',\n",
       " '대출금액/총계좌수',\n",
       " '연체관련지표',\n",
       " 'Delinquent_Account_Ratio',\n",
       " 'Delinquent_Accounts_2_or_More',\n",
       " '대출금액/대출기간',\n",
       " '연간소득/대출금액',\n",
       " '(연간소득/대출금액)/대출기간_숫자',\n",
       " '총상환원금/대출금액',\n",
       " '총연체금액/대출기간',\n",
       " '(총상환원금/대출금액)*(총연체금액/대출기간)',\n",
       " '총상환이자/대출금액',\n",
       " '(총상환이자/대출금액)*(총연체금액/대출기간)',\n",
       " '총상환이자/총상환원금',\n",
       " '부채금액',\n",
       " '(대출금액+총상환원금-부채금액*총상환이자)/대출기간',\n",
       " '총상환원금/총상환이자',\n",
       " '총상환원금*총상환이자/대출금액',\n",
       " '총상환원금*총상환이자/부채금액',\n",
       " '연간소득/(대출금액+총상환원금)',\n",
       " '총상환원금/총계좌수',\n",
       " '(총상환원금/대출금액)/총계좌수',\n",
       " 'Altman_Z_Score',\n",
       " 'DTI',\n",
       " '재정_건강_점수',\n",
       " '금융_다양성_지수',\n",
       " '재무_안정성_점수',\n",
       " '부채상환능력',\n",
       " '대출금액/연간소득',\n",
       " '(연간소득/총계좌수)+(총연체금액/연체계좌수)',\n",
       " '최근_2년간_연체_횟수*(총연체금액+(총상환원금*상환이자))',\n",
       " '총상환이자/연간소득',\n",
       " '대출금액_분위수',\n",
       " '대출금액_연체1',\n",
       " '(총상환원금/총상환이자)/대출기간',\n",
       " '상환_대비_이자_비율',\n",
       " '총부채',\n",
       " '유동부채',\n",
       " '이자상환비율',\n",
       " 'Quick Ratio',\n",
       " '유동비율',\n",
       " '부채비율',\n",
       " '영업활동으로 인한 현금흐름비율',\n",
       " '현제 사용가능 계좌수',\n",
       " '총 신용카드 한도_근사치',\n",
       " '총 신용카드 한도_근사치/현제 사용가능 계좌수',\n",
       " '대출금액*현제 사용가능 계좌수',\n",
       " '총상환원금*현제 사용가능 계좌수',\n",
       " '총상환원금/총상환이자*대출기간',\n",
       " '예상핵심',\n",
       " '예상핵심2',\n",
       " '예상핵심4',\n",
       " '예상핵심5',\n",
       " '예상핵심6',\n",
       " '예상핵심7',\n",
       " '예상핵심8',\n",
       " '예상핵심9',\n",
       " '예상핵심10',\n",
       " '예상핵심11']"
      ]
     },
     "execution_count": 1145,
     "metadata": {},
     "output_type": "execute_result"
    }
   ],
   "source": [
    "train_ft.columns.tolist()"
   ]
  },
  {
   "cell_type": "code",
   "execution_count": 1146,
   "id": "20186e71-91c1-4323-9596-2261de636f1b",
   "metadata": {},
   "outputs": [
    {
     "data": {
      "text/plain": [
       "(0, 0)"
      ]
     },
     "execution_count": 1146,
     "metadata": {},
     "output_type": "execute_result"
    }
   ],
   "source": [
    "\n",
    "train_ft.isnull().sum().sum(),test_ft.isnull().sum().sum()"
   ]
  },
  {
   "cell_type": "code",
   "execution_count": 1147,
   "id": "82861a19-d2a9-4ee3-bca9-48fbc5f00c5e",
   "metadata": {},
   "outputs": [
    {
     "data": {
      "text/html": [
       "<div>\n",
       "<style scoped>\n",
       "    .dataframe tbody tr th:only-of-type {\n",
       "        vertical-align: middle;\n",
       "    }\n",
       "\n",
       "    .dataframe tbody tr th {\n",
       "        vertical-align: top;\n",
       "    }\n",
       "\n",
       "    .dataframe thead th {\n",
       "        text-align: right;\n",
       "    }\n",
       "</style>\n",
       "<table border=\"1\" class=\"dataframe\">\n",
       "  <thead>\n",
       "    <tr style=\"text-align: right;\">\n",
       "      <th></th>\n",
       "      <th>주택소유상태</th>\n",
       "      <th>대출목적</th>\n",
       "    </tr>\n",
       "  </thead>\n",
       "  <tbody>\n",
       "    <tr>\n",
       "      <th>0</th>\n",
       "      <td>RENT</td>\n",
       "      <td>부채 통합</td>\n",
       "    </tr>\n",
       "    <tr>\n",
       "      <th>1</th>\n",
       "      <td>MORTGAGE</td>\n",
       "      <td>주택 개선</td>\n",
       "    </tr>\n",
       "    <tr>\n",
       "      <th>2</th>\n",
       "      <td>MORTGAGE</td>\n",
       "      <td>부채 통합</td>\n",
       "    </tr>\n",
       "    <tr>\n",
       "      <th>3</th>\n",
       "      <td>MORTGAGE</td>\n",
       "      <td>부채 통합</td>\n",
       "    </tr>\n",
       "    <tr>\n",
       "      <th>4</th>\n",
       "      <td>RENT</td>\n",
       "      <td>주요 구매</td>\n",
       "    </tr>\n",
       "    <tr>\n",
       "      <th>...</th>\n",
       "      <td>...</td>\n",
       "      <td>...</td>\n",
       "    </tr>\n",
       "    <tr>\n",
       "      <th>96289</th>\n",
       "      <td>MORTGAGE</td>\n",
       "      <td>신용 카드</td>\n",
       "    </tr>\n",
       "    <tr>\n",
       "      <th>96290</th>\n",
       "      <td>MORTGAGE</td>\n",
       "      <td>주택 개선</td>\n",
       "    </tr>\n",
       "    <tr>\n",
       "      <th>96291</th>\n",
       "      <td>MORTGAGE</td>\n",
       "      <td>신용 카드</td>\n",
       "    </tr>\n",
       "    <tr>\n",
       "      <th>96292</th>\n",
       "      <td>MORTGAGE</td>\n",
       "      <td>부채 통합</td>\n",
       "    </tr>\n",
       "    <tr>\n",
       "      <th>96293</th>\n",
       "      <td>RENT</td>\n",
       "      <td>신용 카드</td>\n",
       "    </tr>\n",
       "  </tbody>\n",
       "</table>\n",
       "<p>96294 rows × 2 columns</p>\n",
       "</div>"
      ],
      "text/plain": [
       "         주택소유상태   대출목적\n",
       "0          RENT  부채 통합\n",
       "1      MORTGAGE  주택 개선\n",
       "2      MORTGAGE  부채 통합\n",
       "3      MORTGAGE  부채 통합\n",
       "4          RENT  주요 구매\n",
       "...         ...    ...\n",
       "96289  MORTGAGE  신용 카드\n",
       "96290  MORTGAGE  주택 개선\n",
       "96291  MORTGAGE  신용 카드\n",
       "96292  MORTGAGE  부채 통합\n",
       "96293      RENT  신용 카드\n",
       "\n",
       "[96294 rows x 2 columns]"
      ]
     },
     "execution_count": 1147,
     "metadata": {},
     "output_type": "execute_result"
    }
   ],
   "source": [
    "train_ft.select_dtypes('object')"
   ]
  },
  {
   "cell_type": "code",
   "execution_count": 1148,
   "id": "da77240b-7e9c-4d7d-8380-38f7044ccd3f",
   "metadata": {},
   "outputs": [],
   "source": [
    "from sklearn.preprocessing import OneHotEncoder\n",
    "cols = ['주택소유상태','대출목적']\n",
    "enc = OneHotEncoder(handle_unknown = 'ignore')\n"
   ]
  },
  {
   "cell_type": "code",
   "execution_count": 1149,
   "id": "5f809876-92f8-40eb-a09d-bd818a254a46",
   "metadata": {},
   "outputs": [],
   "source": [
    "tmp = pd.DataFrame(\n",
    "    enc.fit_transform(train_ft[cols]).toarray(),\n",
    "    columns = enc.get_feature_names_out()\n",
    ")\n",
    "\n",
    "train_ft = pd.concat([train_ft,tmp],axis=1).drop(columns=cols)"
   ]
  },
  {
   "cell_type": "code",
   "execution_count": 1150,
   "id": "336bfa5f-7df7-4cc2-9b3a-5f5c942da9ff",
   "metadata": {},
   "outputs": [],
   "source": [
    "tmp = pd.DataFrame(\n",
    "    enc.transform(test_ft[cols]).toarray(),\n",
    "    columns = enc.get_feature_names_out()\n",
    ")\n",
    "\n",
    "test_ft = pd.concat([test_ft,tmp],axis=1).drop(columns=cols)\n"
   ]
  },
  {
   "cell_type": "code",
   "execution_count": 1152,
   "id": "073b3f30-2c6d-42da-abed-97403798d193",
   "metadata": {},
   "outputs": [
    {
     "data": {
      "text/plain": [
       "((96294, 90), (64197, 90))"
      ]
     },
     "execution_count": 1152,
     "metadata": {},
     "output_type": "execute_result"
    }
   ],
   "source": [
    "from sklearn.preprocessing import RobustScaler\n",
    "scaler = RobustScaler()\n",
    "\n",
    "train_scaled = scaler.fit_transform(train_ft)\n",
    "test_scaled = scaler.transform(test_ft)\n",
    "\n",
    "train_data = pd.DataFrame(train_scaled, columns = train_ft.columns)\n",
    "test_data = pd.DataFrame(test_scaled, columns = test_ft.columns)\n",
    "\n",
    "train_data.shape,test_data.shape"
   ]
  },
  {
   "cell_type": "code",
   "execution_count": 1153,
   "id": "84a2c8f9-47ee-433c-8197-11a55e32fc82",
   "metadata": {},
   "outputs": [
    {
     "data": {
      "text/plain": [
       "array([2, 1, 0, ..., 0, 3, 2])"
      ]
     },
     "execution_count": 1153,
     "metadata": {},
     "output_type": "execute_result"
    }
   ],
   "source": [
    "# 정답 데이터\n",
    "from sklearn.preprocessing import LabelEncoder\n",
    "le = LabelEncoder()\n",
    "target_le = le.fit_transform(target)\n",
    "target_le"
   ]
  },
  {
   "cell_type": "code",
   "execution_count": 1154,
   "id": "e3221e11-0bad-4373-b4a1-810aed808a81",
   "metadata": {},
   "outputs": [],
   "source": [
    "SEED =822\n",
    "from sklearn.model_selection import cross_val_score\n",
    "from sklearn.model_selection import StratifiedKFold\n",
    "cv = StratifiedKFold(n_splits=5,shuffle=True, random_state=SEED)"
   ]
  },
  {
   "cell_type": "code",
   "execution_count": 1155,
   "id": "32c3ca93-489c-4738-910e-086d4f80310d",
   "metadata": {},
   "outputs": [],
   "source": [
    "from lightgbm import LGBMClassifier\n",
    "from catboost import CatBoostClassifier\n",
    "from xgboost import XGBClassifier\n",
    "from sklearn.ensemble import RandomForestClassifier\n",
    "from sklearn.feature_selection import SelectFromModel,SelectKBest,f_classif\n",
    "from sklearn.decomposition import PCA\n",
    "from imblearn.over_sampling import SMOTE"
   ]
  },
  {
   "cell_type": "code",
   "execution_count": 1156,
   "id": "c58f6d42-634a-4962-a3eb-b18b59fd5493",
   "metadata": {},
   "outputs": [],
   "source": [
    "from lightgbm import LGBMClassifier\n",
    "from catboost import CatBoostClassifier\n",
    "from xgboost import XGBClassifier\n",
    "from sklearn.ensemble import RandomForestClassifier\n",
    "\n",
    "# LGBMClassifier\n",
    "lgbm_model = LGBMClassifier(random_state=SEED, objective='multiclass', num_class=len(set(target)))\n",
    "\n",
    "# CatBoostClassifier\n",
    "cat_model = CatBoostClassifier(random_state=SEED, loss_function='MultiClass', classes_count=len(set(target)))\n",
    "\n",
    "# XGBClassifier\n",
    "xgb_model = XGBClassifier(random_state=SEED, objective='multi:softmax', num_class=len(set(target)))\n",
    "\n",
    "# RandomForestClassifier\n",
    "rf_model = RandomForestClassifier(random_state=SEED, n_estimators=100, criterion='gini', class_weight='balanced')\n"
   ]
  },
  {
   "cell_type": "code",
   "execution_count": 1157,
   "id": "491d98c5-337c-4bcb-8518-394977e4f55c",
   "metadata": {},
   "outputs": [],
   "source": [
    "# Fit the RandomForestClassifier\n",
    "rf_model.fit(train_data, target_le)\n",
    "\n",
    "# Get feature importances\n",
    "feature_importances = rf_model.feature_importances_"
   ]
  },
  {
   "cell_type": "markdown",
   "id": "a42c7e73-c0c8-47f3-9f44-f89f92d31f08",
   "metadata": {},
   "source": [
    "## top array([63, 54, 26, 55, 23, 37,  1, 28, 49, 31, 64])"
   ]
  },
  {
   "cell_type": "code",
   "execution_count": 1158,
   "id": "f12bcdc3-250a-451e-a45d-7b550cd8dba4",
   "metadata": {},
   "outputs": [],
   "source": [
    "n = 10  # specify the number of top features    9->94.2\n",
    "top_indices = np.argsort(feature_importance)[-n:]\n",
    "\n",
    "# Extract top N features from the original DataFrame\n",
    "top_features_train_data = train_data.iloc[:, top_indices]\n",
    "top_features_test_data=test_data.iloc[:, top_indices]"
   ]
  },
  {
   "cell_type": "code",
   "execution_count": 1159,
   "id": "c6e5da5e-bd76-4749-901a-b47cc94dd864",
   "metadata": {},
   "outputs": [
    {
     "data": {
      "text/html": [
       "<div>\n",
       "<style scoped>\n",
       "    .dataframe tbody tr th:only-of-type {\n",
       "        vertical-align: middle;\n",
       "    }\n",
       "\n",
       "    .dataframe tbody tr th {\n",
       "        vertical-align: top;\n",
       "    }\n",
       "\n",
       "    .dataframe thead th {\n",
       "        text-align: right;\n",
       "    }\n",
       "</style>\n",
       "<table border=\"1\" class=\"dataframe\">\n",
       "  <thead>\n",
       "    <tr style=\"text-align: right;\">\n",
       "      <th></th>\n",
       "      <th>Quick Ratio</th>\n",
       "      <th>총상환이자/대출금액</th>\n",
       "      <th>유동비율</th>\n",
       "      <th>총상환원금/대출금액</th>\n",
       "      <th>Altman_Z_Score</th>\n",
       "      <th>대출기간</th>\n",
       "      <th>총상환이자/총상환원금</th>\n",
       "      <th>(총상환원금/총상환이자)/대출기간</th>\n",
       "      <th>총상환원금/총상환이자</th>\n",
       "      <th>예상핵심</th>\n",
       "    </tr>\n",
       "  </thead>\n",
       "  <tbody>\n",
       "    <tr>\n",
       "      <th>0</th>\n",
       "      <td>-1.066720</td>\n",
       "      <td>-0.967514</td>\n",
       "      <td>6.192324e+13</td>\n",
       "      <td>-0.946399</td>\n",
       "      <td>-0.946414</td>\n",
       "      <td>0.0</td>\n",
       "      <td>-0.866918</td>\n",
       "      <td>-0.797714</td>\n",
       "      <td>-0.975626</td>\n",
       "      <td>-0.565624</td>\n",
       "    </tr>\n",
       "    <tr>\n",
       "      <th>1</th>\n",
       "      <td>-0.363309</td>\n",
       "      <td>-0.160701</td>\n",
       "      <td>4.108746e-01</td>\n",
       "      <td>-0.384226</td>\n",
       "      <td>-0.384215</td>\n",
       "      <td>1.0</td>\n",
       "      <td>0.409287</td>\n",
       "      <td>-0.437331</td>\n",
       "      <td>-0.255199</td>\n",
       "      <td>-0.301728</td>\n",
       "    </tr>\n",
       "    <tr>\n",
       "      <th>2</th>\n",
       "      <td>0.362704</td>\n",
       "      <td>-0.339006</td>\n",
       "      <td>-2.018529e-01</td>\n",
       "      <td>0.730573</td>\n",
       "      <td>0.730583</td>\n",
       "      <td>0.0</td>\n",
       "      <td>-0.533644</td>\n",
       "      <td>1.502309</td>\n",
       "      <td>1.783101</td>\n",
       "      <td>2.448468</td>\n",
       "    </tr>\n",
       "    <tr>\n",
       "      <th>3</th>\n",
       "      <td>-0.510498</td>\n",
       "      <td>-0.439745</td>\n",
       "      <td>7.301097e-01</td>\n",
       "      <td>-0.456080</td>\n",
       "      <td>-0.456094</td>\n",
       "      <td>0.0</td>\n",
       "      <td>0.090238</td>\n",
       "      <td>0.003137</td>\n",
       "      <td>-0.015058</td>\n",
       "      <td>-0.258745</td>\n",
       "    </tr>\n",
       "    <tr>\n",
       "      <th>4</th>\n",
       "      <td>-0.712548</td>\n",
       "      <td>-0.556748</td>\n",
       "      <td>1.600450e+00</td>\n",
       "      <td>-0.671262</td>\n",
       "      <td>-0.671279</td>\n",
       "      <td>1.0</td>\n",
       "      <td>0.460671</td>\n",
       "      <td>-0.451279</td>\n",
       "      <td>-0.283082</td>\n",
       "      <td>-0.441458</td>\n",
       "    </tr>\n",
       "    <tr>\n",
       "      <th>...</th>\n",
       "      <td>...</td>\n",
       "      <td>...</td>\n",
       "      <td>...</td>\n",
       "      <td>...</td>\n",
       "      <td>...</td>\n",
       "      <td>...</td>\n",
       "      <td>...</td>\n",
       "      <td>...</td>\n",
       "      <td>...</td>\n",
       "      <td>...</td>\n",
       "    </tr>\n",
       "    <tr>\n",
       "      <th>96289</th>\n",
       "      <td>0.564853</td>\n",
       "      <td>0.729006</td>\n",
       "      <td>-2.754049e-01</td>\n",
       "      <td>0.520205</td>\n",
       "      <td>0.520274</td>\n",
       "      <td>0.0</td>\n",
       "      <td>0.161722</td>\n",
       "      <td>-0.052518</td>\n",
       "      <td>-0.081812</td>\n",
       "      <td>0.288465</td>\n",
       "    </tr>\n",
       "    <tr>\n",
       "      <th>96290</th>\n",
       "      <td>-0.229286</td>\n",
       "      <td>0.506238</td>\n",
       "      <td>2.178042e-01</td>\n",
       "      <td>-0.507185</td>\n",
       "      <td>-0.507212</td>\n",
       "      <td>1.0</td>\n",
       "      <td>2.116856</td>\n",
       "      <td>-0.643573</td>\n",
       "      <td>-0.667488</td>\n",
       "      <td>-0.477443</td>\n",
       "    </tr>\n",
       "    <tr>\n",
       "      <th>96291</th>\n",
       "      <td>0.795759</td>\n",
       "      <td>-0.135965</td>\n",
       "      <td>-3.398861e-01</td>\n",
       "      <td>1.294526</td>\n",
       "      <td>1.294558</td>\n",
       "      <td>0.0</td>\n",
       "      <td>-0.536946</td>\n",
       "      <td>1.525324</td>\n",
       "      <td>1.810707</td>\n",
       "      <td>3.502369</td>\n",
       "    </tr>\n",
       "    <tr>\n",
       "      <th>96292</th>\n",
       "      <td>1.145753</td>\n",
       "      <td>1.635504</td>\n",
       "      <td>-4.119612e-01</td>\n",
       "      <td>0.968291</td>\n",
       "      <td>0.968312</td>\n",
       "      <td>0.0</td>\n",
       "      <td>0.341998</td>\n",
       "      <td>-0.163643</td>\n",
       "      <td>-0.215099</td>\n",
       "      <td>0.383088</td>\n",
       "    </tr>\n",
       "    <tr>\n",
       "      <th>96293</th>\n",
       "      <td>0.546275</td>\n",
       "      <td>0.612124</td>\n",
       "      <td>-2.694150e-01</td>\n",
       "      <td>0.548797</td>\n",
       "      <td>0.548841</td>\n",
       "      <td>0.0</td>\n",
       "      <td>0.072539</td>\n",
       "      <td>0.018224</td>\n",
       "      <td>0.003039</td>\n",
       "      <td>0.387758</td>\n",
       "    </tr>\n",
       "  </tbody>\n",
       "</table>\n",
       "<p>96294 rows × 10 columns</p>\n",
       "</div>"
      ],
      "text/plain": [
       "       Quick Ratio  총상환이자/대출금액          유동비율  총상환원금/대출금액  Altman_Z_Score  \\\n",
       "0        -1.066720   -0.967514  6.192324e+13   -0.946399       -0.946414   \n",
       "1        -0.363309   -0.160701  4.108746e-01   -0.384226       -0.384215   \n",
       "2         0.362704   -0.339006 -2.018529e-01    0.730573        0.730583   \n",
       "3        -0.510498   -0.439745  7.301097e-01   -0.456080       -0.456094   \n",
       "4        -0.712548   -0.556748  1.600450e+00   -0.671262       -0.671279   \n",
       "...            ...         ...           ...         ...             ...   \n",
       "96289     0.564853    0.729006 -2.754049e-01    0.520205        0.520274   \n",
       "96290    -0.229286    0.506238  2.178042e-01   -0.507185       -0.507212   \n",
       "96291     0.795759   -0.135965 -3.398861e-01    1.294526        1.294558   \n",
       "96292     1.145753    1.635504 -4.119612e-01    0.968291        0.968312   \n",
       "96293     0.546275    0.612124 -2.694150e-01    0.548797        0.548841   \n",
       "\n",
       "       대출기간  총상환이자/총상환원금  (총상환원금/총상환이자)/대출기간  총상환원금/총상환이자      예상핵심  \n",
       "0       0.0    -0.866918           -0.797714    -0.975626 -0.565624  \n",
       "1       1.0     0.409287           -0.437331    -0.255199 -0.301728  \n",
       "2       0.0    -0.533644            1.502309     1.783101  2.448468  \n",
       "3       0.0     0.090238            0.003137    -0.015058 -0.258745  \n",
       "4       1.0     0.460671           -0.451279    -0.283082 -0.441458  \n",
       "...     ...          ...                 ...          ...       ...  \n",
       "96289   0.0     0.161722           -0.052518    -0.081812  0.288465  \n",
       "96290   1.0     2.116856           -0.643573    -0.667488 -0.477443  \n",
       "96291   0.0    -0.536946            1.525324     1.810707  3.502369  \n",
       "96292   0.0     0.341998           -0.163643    -0.215099  0.383088  \n",
       "96293   0.0     0.072539            0.018224     0.003039  0.387758  \n",
       "\n",
       "[96294 rows x 10 columns]"
      ]
     },
     "execution_count": 1159,
     "metadata": {},
     "output_type": "execute_result"
    }
   ],
   "source": [
    "top_features_train_data"
   ]
  },
  {
   "cell_type": "code",
   "execution_count": 1066,
   "id": "19327465-dbe2-4f5c-899b-39b37cc165b0",
   "metadata": {},
   "outputs": [
    {
     "data": {
      "text/plain": [
       "0.9408549495141221"
      ]
     },
     "execution_count": 1066,
     "metadata": {},
     "output_type": "execute_result"
    },
    {
     "name": "stdout",
     "output_type": "stream",
     "text": [
      "[LightGBM] [Warning] Unknown parameter: silent\n",
      "[LightGBM] [Warning] Accuracy may be bad since you didn't explicitly set num_leaves OR 2^max_depth > num_leaves. (num_leaves=31).\n"
     ]
    }
   ],
   "source": [
    "Best_Parameters={'n_estimators': 193, 'max_depth': 16, 'min_samples_split': 5, 'min_samples_leaf': 2, 'max_features': 0.2373153353046194}\n",
    "rf_model = RandomForestClassifier(**Best_Parameters, random_state=SEED)\n",
    "\n",
    "scores = cross_val_score(rf_model, top_features_train_data, target_le, cv=cv, scoring='f1_macro', n_jobs=-1)\n",
    "mean_f1_macro = np.mean(scores)\n",
    "mean_f1_macro"
   ]
  },
  {
   "cell_type": "code",
   "execution_count": null,
   "id": "fd46f8c7-4a4c-4ce0-9679-dc060ef18933",
   "metadata": {},
   "outputs": [],
   "source": [
    "import optuna\n",
    "from sklearn.model_selection import train_test_split\n",
    "from sklearn.metrics import f1_score\n"
   ]
  },
  {
   "cell_type": "code",
   "execution_count": 1161,
   "id": "4eb83282-8e38-4d23-beea-621d481b957d",
   "metadata": {
    "scrolled": true
   },
   "outputs": [
    {
     "name": "stderr",
     "output_type": "stream",
     "text": [
      "[I 2024-02-05 06:32:43,617] A new study created in memory with name: no-name-51a42677-b4e7-412a-946b-e896d956d16a\n",
      "[I 2024-02-05 06:33:41,733] Trial 0 finished with value: 0.9300164052493196 and parameters: {'n_estimators': 71, 'max_depth': 10, 'min_samples_split': 8, 'min_samples_leaf': 8, 'max_features': 0.3104458117640377}. Best is trial 0 with value: 0.9300164052493196.\n",
      "[I 2024-02-05 06:36:41,068] Trial 1 finished with value: 0.9472552767975392 and parameters: {'n_estimators': 112, 'max_depth': 14, 'min_samples_split': 2, 'min_samples_leaf': 6, 'max_features': 0.5353006515644381}. Best is trial 1 with value: 0.9472552767975392.\n",
      "[I 2024-02-05 06:37:40,435] Trial 2 finished with value: 0.7873284222935619 and parameters: {'n_estimators': 61, 'max_depth': 4, 'min_samples_split': 3, 'min_samples_leaf': 5, 'max_features': 0.8107451849054685}. Best is trial 1 with value: 0.9472552767975392.\n",
      "[I 2024-02-05 06:40:31,100] Trial 3 finished with value: 0.7030032007726542 and parameters: {'n_estimators': 229, 'max_depth': 3, 'min_samples_split': 8, 'min_samples_leaf': 1, 'max_features': 0.8245761416504629}. Best is trial 1 with value: 0.9472552767975392.\n",
      "[I 2024-02-05 06:42:34,188] Trial 4 finished with value: 0.8929632078175498 and parameters: {'n_estimators': 196, 'max_depth': 7, 'min_samples_split': 8, 'min_samples_leaf': 2, 'max_features': 0.3816611524793133}. Best is trial 1 with value: 0.9472552767975392.\n",
      "[I 2024-02-05 06:45:57,717] Trial 5 finished with value: 0.8647786743525143 and parameters: {'n_estimators': 225, 'max_depth': 6, 'min_samples_split': 3, 'min_samples_leaf': 8, 'max_features': 0.5161639524248919}. Best is trial 1 with value: 0.9472552767975392.\n",
      "[I 2024-02-05 06:51:05,812] Trial 6 finished with value: 0.8621617392347855 and parameters: {'n_estimators': 221, 'max_depth': 6, 'min_samples_split': 3, 'min_samples_leaf': 4, 'max_features': 0.8666386232783468}. Best is trial 1 with value: 0.9472552767975392.\n",
      "[I 2024-02-05 06:52:52,773] Trial 7 finished with value: 0.94836645369039 and parameters: {'n_estimators': 273, 'max_depth': 15, 'min_samples_split': 3, 'min_samples_leaf': 7, 'max_features': 0.12995988404705838}. Best is trial 7 with value: 0.94836645369039.\n",
      "[I 2024-02-05 06:55:21,209] Trial 8 finished with value: 0.857737767740631 and parameters: {'n_estimators': 242, 'max_depth': 5, 'min_samples_split': 3, 'min_samples_leaf': 8, 'max_features': 0.41465965533750737}. Best is trial 7 with value: 0.94836645369039.\n",
      "[I 2024-02-05 06:56:35,040] Trial 9 finished with value: 0.9095166822884668 and parameters: {'n_estimators': 60, 'max_depth': 9, 'min_samples_split': 2, 'min_samples_leaf': 10, 'max_features': 0.5665410731495925}. Best is trial 7 with value: 0.94836645369039.\n",
      "[I 2024-02-05 06:58:32,731] Trial 10 finished with value: 0.9477849063218564 and parameters: {'n_estimators': 297, 'max_depth': 20, 'min_samples_split': 5, 'min_samples_leaf': 10, 'max_features': 0.11131326160057417}. Best is trial 7 with value: 0.94836645369039.\n",
      "[I 2024-02-05 07:00:26,612] Trial 11 finished with value: 0.9477745221059208 and parameters: {'n_estimators': 289, 'max_depth': 20, 'min_samples_split': 5, 'min_samples_leaf': 10, 'max_features': 0.10513561970074221}. Best is trial 7 with value: 0.94836645369039.\n",
      "[I 2024-02-05 07:02:25,497] Trial 12 finished with value: 0.9492699387151152 and parameters: {'n_estimators': 296, 'max_depth': 20, 'min_samples_split': 5, 'min_samples_leaf': 7, 'max_features': 0.10877033670954646}. Best is trial 12 with value: 0.9492699387151152.\n",
      "[I 2024-02-05 07:05:26,574] Trial 13 finished with value: 0.9505576591422346 and parameters: {'n_estimators': 266, 'max_depth': 16, 'min_samples_split': 6, 'min_samples_leaf': 6, 'max_features': 0.2084161449969778}. Best is trial 13 with value: 0.9505576591422346.\n",
      "[I 2024-02-05 07:07:07,930] Trial 14 finished with value: 0.9509003566023984 and parameters: {'n_estimators': 147, 'max_depth': 17, 'min_samples_split': 6, 'min_samples_leaf': 4, 'max_features': 0.24481111441925352}. Best is trial 14 with value: 0.9509003566023984.\n",
      "[I 2024-02-05 07:08:48,384] Trial 15 finished with value: 0.9510042084681418 and parameters: {'n_estimators': 146, 'max_depth': 16, 'min_samples_split': 10, 'min_samples_leaf': 3, 'max_features': 0.2358711902629097}. Best is trial 15 with value: 0.9510042084681418.\n",
      "[I 2024-02-05 07:10:31,334] Trial 16 finished with value: 0.9513261364179468 and parameters: {'n_estimators': 149, 'max_depth': 17, 'min_samples_split': 10, 'min_samples_leaf': 3, 'max_features': 0.2979950823893821}. Best is trial 16 with value: 0.9513261364179468.\n",
      "[I 2024-02-05 07:17:04,812] Trial 17 finished with value: 0.9394562533991564 and parameters: {'n_estimators': 146, 'max_depth': 13, 'min_samples_split': 10, 'min_samples_leaf': 3, 'max_features': 0.996927844729636}. Best is trial 16 with value: 0.9513261364179468.\n",
      "[I 2024-02-05 07:20:47,428] Trial 18 finished with value: 0.9507757454719261 and parameters: {'n_estimators': 167, 'max_depth': 18, 'min_samples_split': 10, 'min_samples_leaf': 1, 'max_features': 0.4133521752965633}. Best is trial 16 with value: 0.9513261364179468.\n",
      "[I 2024-02-05 07:21:55,022] Trial 19 finished with value: 0.9468295002174527 and parameters: {'n_estimators': 107, 'max_depth': 12, 'min_samples_split': 9, 'min_samples_leaf': 3, 'max_features': 0.26764320757162363}. Best is trial 16 with value: 0.9513261364179468.\n",
      "[I 2024-02-05 07:25:21,094] Trial 20 finished with value: 0.9498930288790725 and parameters: {'n_estimators': 104, 'max_depth': 18, 'min_samples_split': 9, 'min_samples_leaf': 2, 'max_features': 0.6514479496079497}. Best is trial 16 with value: 0.9513261364179468.\n",
      "[I 2024-02-05 07:26:57,424] Trial 21 finished with value: 0.9509626645942308 and parameters: {'n_estimators': 142, 'max_depth': 17, 'min_samples_split': 7, 'min_samples_leaf': 4, 'max_features': 0.23446710305418916}. Best is trial 16 with value: 0.9513261364179468.\n",
      "[I 2024-02-05 07:29:52,279] Trial 22 finished with value: 0.9505888134077727 and parameters: {'n_estimators': 178, 'max_depth': 16, 'min_samples_split': 9, 'min_samples_leaf': 4, 'max_features': 0.3145220089892608}. Best is trial 16 with value: 0.9513261364179468.\n",
      "[I 2024-02-05 07:31:28,092] Trial 23 finished with value: 0.9513365265655631 and parameters: {'n_estimators': 137, 'max_depth': 18, 'min_samples_split': 7, 'min_samples_leaf': 3, 'max_features': 0.20540062750089524}. Best is trial 23 with value: 0.9513365265655631.\n",
      "[I 2024-02-05 07:32:16,964] Trial 24 finished with value: 0.9498307246619456 and parameters: {'n_estimators': 123, 'max_depth': 14, 'min_samples_split': 10, 'min_samples_leaf': 2, 'max_features': 0.18504205056720854}. Best is trial 23 with value: 0.9513365265655631.\n",
      "[I 2024-02-05 07:33:42,640] Trial 25 finished with value: 0.9507653569420409 and parameters: {'n_estimators': 82, 'max_depth': 18, 'min_samples_split': 7, 'min_samples_leaf': 3, 'max_features': 0.34339315514765933}. Best is trial 23 with value: 0.9513365265655631.\n",
      "[I 2024-02-05 07:37:08,600] Trial 26 finished with value: 0.9352503806372988 and parameters: {'n_estimators': 179, 'max_depth': 11, 'min_samples_split': 9, 'min_samples_leaf': 5, 'max_features': 0.46103579275831064}. Best is trial 23 with value: 0.9513365265655631.\n",
      "[I 2024-02-05 07:38:05,084] Trial 27 finished with value: 0.9509419037117712 and parameters: {'n_estimators': 132, 'max_depth': 19, 'min_samples_split': 10, 'min_samples_leaf': 3, 'max_features': 0.1903394518920658}. Best is trial 23 with value: 0.9513365265655631.\n",
      "[I 2024-02-05 07:43:05,692] Trial 28 finished with value: 0.9488233813005525 and parameters: {'n_estimators': 155, 'max_depth': 15, 'min_samples_split': 7, 'min_samples_leaf': 2, 'max_features': 0.6930472471769795}. Best is trial 23 with value: 0.9513365265655631.\n",
      "[I 2024-02-05 07:45:39,569] Trial 29 finished with value: 0.916661468806766 and parameters: {'n_estimators': 201, 'max_depth': 9, 'min_samples_split': 8, 'min_samples_leaf': 5, 'max_features': 0.30469985506377284}. Best is trial 23 with value: 0.9513365265655631.\n",
      "[I 2024-02-05 07:47:15,260] Trial 30 finished with value: 0.9511599841097823 and parameters: {'n_estimators': 95, 'max_depth': 16, 'min_samples_split': 8, 'min_samples_leaf': 1, 'max_features': 0.3478910268964672}. Best is trial 23 with value: 0.9513365265655631.\n",
      "[I 2024-02-05 07:48:51,018] Trial 31 finished with value: 0.9511599841097823 and parameters: {'n_estimators': 95, 'max_depth': 16, 'min_samples_split': 8, 'min_samples_leaf': 1, 'max_features': 0.34750985791500355}. Best is trial 23 with value: 0.9513365265655631.\n",
      "[I 2024-02-05 07:50:12,121] Trial 32 finished with value: 0.9476810625447684 and parameters: {'n_estimators': 85, 'max_depth': 13, 'min_samples_split': 8, 'min_samples_leaf': 1, 'max_features': 0.3590517632358012}. Best is trial 23 with value: 0.9513365265655631.\n",
      "[I 2024-02-05 07:52:12,172] Trial 33 finished with value: 0.950235733888648 and parameters: {'n_estimators': 90, 'max_depth': 17, 'min_samples_split': 7, 'min_samples_leaf': 1, 'max_features': 0.4694112664929485}. Best is trial 23 with value: 0.9513365265655631.\n",
      "[I 2024-02-05 07:54:04,119] Trial 34 finished with value: 0.950651116546412 and parameters: {'n_estimators': 113, 'max_depth': 15, 'min_samples_split': 9, 'min_samples_leaf': 2, 'max_features': 0.30307671231143224}. Best is trial 23 with value: 0.9513365265655631.\n",
      "[I 2024-02-05 07:55:15,087] Trial 35 finished with value: 0.9504538169828773 and parameters: {'n_estimators': 69, 'max_depth': 19, 'min_samples_split': 8, 'min_samples_leaf': 1, 'max_features': 0.39698042409588064}. Best is trial 23 with value: 0.9513365265655631.\n",
      "[I 2024-02-05 07:56:36,159] Trial 36 finished with value: 0.948210675352531 and parameters: {'n_estimators': 51, 'max_depth': 14, 'min_samples_split': 6, 'min_samples_leaf': 1, 'max_features': 0.5952670269214311}. Best is trial 23 with value: 0.9513365265655631.\n",
      "[I 2024-02-05 07:59:17,853] Trial 37 finished with value: 0.950256501242032 and parameters: {'n_estimators': 121, 'max_depth': 19, 'min_samples_split': 8, 'min_samples_leaf': 2, 'max_features': 0.4850673549296127}. Best is trial 23 with value: 0.9513365265655631.\n",
      "[I 2024-02-05 07:59:55,270] Trial 38 finished with value: 0.9512222915623714 and parameters: {'n_estimators': 90, 'max_depth': 17, 'min_samples_split': 7, 'min_samples_leaf': 2, 'max_features': 0.18414824252057435}. Best is trial 23 with value: 0.9513365265655631.\n",
      "[I 2024-02-05 08:00:49,566] Trial 39 finished with value: 0.9509211282697319 and parameters: {'n_estimators': 131, 'max_depth': 18, 'min_samples_split': 6, 'min_samples_leaf': 3, 'max_features': 0.16328960993369615}. Best is trial 23 with value: 0.9513365265655631.\n",
      "[I 2024-02-05 08:01:53,178] Trial 40 finished with value: 0.9490103192963867 and parameters: {'n_estimators': 163, 'max_depth': 14, 'min_samples_split': 7, 'min_samples_leaf': 4, 'max_features': 0.15799829458930698}. Best is trial 23 with value: 0.9513365265655631.\n",
      "[I 2024-02-05 08:03:00,755] Trial 41 finished with value: 0.9511080603338853 and parameters: {'n_estimators': 97, 'max_depth': 16, 'min_samples_split': 8, 'min_samples_leaf': 2, 'max_features': 0.2933943905132578}. Best is trial 23 with value: 0.9513365265655631.\n",
      "[I 2024-02-05 08:03:54,522] Trial 42 finished with value: 0.9514403730388696 and parameters: {'n_estimators': 76, 'max_depth': 17, 'min_samples_split': 7, 'min_samples_leaf': 1, 'max_features': 0.2561442191449621}. Best is trial 42 with value: 0.9514403730388696.\n",
      "[I 2024-02-05 08:04:50,779] Trial 43 finished with value: 0.9515234543157671 and parameters: {'n_estimators': 79, 'max_depth': 17, 'min_samples_split': 7, 'min_samples_leaf': 1, 'max_features': 0.2652984787321245}. Best is trial 43 with value: 0.9515234543157671.\n",
      "[I 2024-02-05 08:05:43,549] Trial 44 finished with value: 0.9513261418103838 and parameters: {'n_estimators': 75, 'max_depth': 17, 'min_samples_split': 4, 'min_samples_leaf': 2, 'max_features': 0.2698618886815183}. Best is trial 43 with value: 0.9515234543157671.\n",
      "[I 2024-02-05 08:06:34,736] Trial 45 finished with value: 0.9514092236265249 and parameters: {'n_estimators': 73, 'max_depth': 18, 'min_samples_split': 4, 'min_samples_leaf': 3, 'max_features': 0.2605425057488276}. Best is trial 43 with value: 0.9515234543157671.\n",
      "[I 2024-02-05 08:07:26,071] Trial 46 finished with value: 0.9509419031725276 and parameters: {'n_estimators': 72, 'max_depth': 19, 'min_samples_split': 4, 'min_samples_leaf': 2, 'max_features': 0.25811549495697406}. Best is trial 43 with value: 0.9515234543157671.\n",
      "[I 2024-02-05 08:08:03,727] Trial 47 finished with value: 0.9501526580041876 and parameters: {'n_estimators': 52, 'max_depth': 20, 'min_samples_split': 4, 'min_samples_leaf': 1, 'max_features': 0.2114196689369214}. Best is trial 43 with value: 0.9515234543157671.\n",
      "[I 2024-02-05 08:08:34,964] Trial 48 finished with value: 0.9509834351830773 and parameters: {'n_estimators': 74, 'max_depth': 18, 'min_samples_split': 4, 'min_samples_leaf': 2, 'max_features': 0.13240621562532157}. Best is trial 43 with value: 0.9515234543157671.\n",
      "[I 2024-02-05 08:10:16,633] Trial 49 finished with value: 0.9488337789975805 and parameters: {'n_estimators': 79, 'max_depth': 15, 'min_samples_split': 5, 'min_samples_leaf': 7, 'max_features': 0.43081605841023946}. Best is trial 43 with value: 0.9515234543157671.\n",
      "[I 2024-02-05 08:11:01,592] Trial 50 finished with value: 0.9504849696306845 and parameters: {'n_estimators': 64, 'max_depth': 19, 'min_samples_split': 2, 'min_samples_leaf': 4, 'max_features': 0.26485637936132755}. Best is trial 43 with value: 0.9515234543157671.\n",
      "[I 2024-02-05 08:13:16,442] Trial 51 finished with value: 0.9515546075028178 and parameters: {'n_estimators': 193, 'max_depth': 17, 'min_samples_split': 4, 'min_samples_leaf': 3, 'max_features': 0.228868724886739}. Best is trial 51 with value: 0.9515546075028178.\n",
      "[I 2024-02-05 08:15:34,537] Trial 52 finished with value: 0.9515026826484336 and parameters: {'n_estimators': 199, 'max_depth': 17, 'min_samples_split': 4, 'min_samples_leaf': 3, 'max_features': 0.2248785774811375}. Best is trial 51 with value: 0.9515546075028178.\n",
      "[I 2024-02-05 08:17:51,521] Trial 53 finished with value: 0.9505057364448248 and parameters: {'n_estimators': 199, 'max_depth': 18, 'min_samples_split': 3, 'min_samples_leaf': 6, 'max_features': 0.22956689560360588}. Best is trial 51 with value: 0.9515546075028178.\n",
      "[I 2024-02-05 08:18:20,541] Trial 54 finished with value: 0.6931687987922193 and parameters: {'n_estimators': 211, 'max_depth': 3, 'min_samples_split': 5, 'min_samples_leaf': 3, 'max_features': 0.14693862203384117}. Best is trial 51 with value: 0.9515546075028178.\n",
      "[I 2024-02-05 08:21:08,946] Trial 55 finished with value: 0.9509522879277071 and parameters: {'n_estimators': 240, 'max_depth': 20, 'min_samples_split': 6, 'min_samples_leaf': 4, 'max_features': 0.21993632749347614}. Best is trial 51 with value: 0.9515546075028178.\n",
      "[I 2024-02-05 08:25:30,920] Trial 56 finished with value: 0.8903773800511571 and parameters: {'n_estimators': 186, 'max_depth': 7, 'min_samples_split': 3, 'min_samples_leaf': 3, 'max_features': 0.7805998265518321}. Best is trial 51 with value: 0.9515546075028178.\n",
      "[I 2024-02-05 08:29:05,910] Trial 57 finished with value: 0.9508380518460278 and parameters: {'n_estimators': 213, 'max_depth': 17, 'min_samples_split': 5, 'min_samples_leaf': 5, 'max_features': 0.3824587290703043}. Best is trial 51 with value: 0.9515546075028178.\n",
      "[I 2024-02-05 08:30:40,990] Trial 58 finished with value: 0.9511184413143589 and parameters: {'n_estimators': 230, 'max_depth': 18, 'min_samples_split': 4, 'min_samples_leaf': 3, 'max_features': 0.1120833460908672}. Best is trial 51 with value: 0.9515546075028178.\n",
      "[I 2024-02-05 08:31:56,960] Trial 59 finished with value: 0.9503188086946208 and parameters: {'n_estimators': 189, 'max_depth': 16, 'min_samples_split': 6, 'min_samples_leaf': 4, 'max_features': 0.1857563101852431}. Best is trial 51 with value: 0.9515546075028178.\n",
      "[I 2024-02-05 08:34:47,836] Trial 60 finished with value: 0.9505368961028001 and parameters: {'n_estimators': 168, 'max_depth': 19, 'min_samples_split': 2, 'min_samples_leaf': 3, 'max_features': 0.3267554644007214}. Best is trial 51 with value: 0.9515546075028178.\n",
      "[I 2024-02-05 08:35:32,405] Trial 61 finished with value: 0.9511080592553981 and parameters: {'n_estimators': 63, 'max_depth': 17, 'min_samples_split': 4, 'min_samples_leaf': 2, 'max_features': 0.2681882827640483}. Best is trial 51 with value: 0.9515546075028178.\n",
      "[I 2024-02-05 08:36:45,133] Trial 62 finished with value: 0.9513884535769224 and parameters: {'n_estimators': 104, 'max_depth': 17, 'min_samples_split': 4, 'min_samples_leaf': 2, 'max_features': 0.2673041548819485}. Best is trial 51 with value: 0.9515546075028178.\n",
      "[I 2024-02-05 08:38:01,898] Trial 63 finished with value: 0.9513780677432555 and parameters: {'n_estimators': 112, 'max_depth': 15, 'min_samples_split': 4, 'min_samples_leaf': 1, 'max_features': 0.23965957879064376}. Best is trial 51 with value: 0.9515546075028178.\n",
      "[I 2024-02-05 08:39:15,486] Trial 64 finished with value: 0.9495503298011775 and parameters: {'n_estimators': 111, 'max_depth': 15, 'min_samples_split': 4, 'min_samples_leaf': 9, 'max_features': 0.2872423724840573}. Best is trial 51 with value: 0.9515546075028178.\n",
      "[I 2024-02-05 08:40:15,310] Trial 65 finished with value: 0.9514403735781135 and parameters: {'n_estimators': 85, 'max_depth': 16, 'min_samples_split': 3, 'min_samples_leaf': 1, 'max_features': 0.23911490632434626}. Best is trial 51 with value: 0.9515546075028178.\n",
      "[I 2024-02-05 08:41:13,167] Trial 66 finished with value: 0.950765358559772 and parameters: {'n_estimators': 57, 'max_depth': 16, 'min_samples_split': 3, 'min_samples_leaf': 1, 'max_features': 0.3274190295561965}. Best is trial 51 with value: 0.9515546075028178.\n",
      "[I 2024-02-05 08:42:07,330] Trial 67 finished with value: 0.9497476487774852 and parameters: {'n_estimators': 82, 'max_depth': 13, 'min_samples_split': 3, 'min_samples_leaf': 1, 'max_features': 0.20968789595552983}. Best is trial 51 with value: 0.9515546075028178.\n",
      "[I 2024-02-05 08:42:50,160] Trial 68 finished with value: 0.9511080500882552 and parameters: {'n_estimators': 102, 'max_depth': 17, 'min_samples_split': 5, 'min_samples_leaf': 2, 'max_features': 0.16229192212792118}. Best is trial 51 with value: 0.9515546075028178.\n",
      "[I 2024-02-05 08:46:01,598] Trial 69 finished with value: 0.9489791547852182 and parameters: {'n_estimators': 66, 'max_depth': 16, 'min_samples_split': 2, 'min_samples_leaf': 1, 'max_features': 0.9300080908752568}. Best is trial 51 with value: 0.9515546075028178.\n",
      "[I 2024-02-05 08:47:34,026] Trial 70 finished with value: 0.9514196024500234 and parameters: {'n_estimators': 89, 'max_depth': 17, 'min_samples_split': 5, 'min_samples_leaf': 2, 'max_features': 0.3672767038340938}. Best is trial 51 with value: 0.9515546075028178.\n",
      "[I 2024-02-05 08:48:34,323] Trial 71 finished with value: 0.9512846065643721 and parameters: {'n_estimators': 86, 'max_depth': 17, 'min_samples_split': 5, 'min_samples_leaf': 2, 'max_features': 0.24498520592696213}. Best is trial 51 with value: 0.9515546075028178.\n",
      "[I 2024-02-05 08:49:43,981] Trial 72 finished with value: 0.9510665272448484 and parameters: {'n_estimators': 99, 'max_depth': 18, 'min_samples_split': 3, 'min_samples_leaf': 1, 'max_features': 0.2848066898539265}. Best is trial 51 with value: 0.9515546075028178.\n",
      "[I 2024-02-05 08:51:06,960] Trial 73 finished with value: 0.9507342032157464 and parameters: {'n_estimators': 81, 'max_depth': 18, 'min_samples_split': 4, 'min_samples_leaf': 2, 'max_features': 0.3229130328973026}. Best is trial 51 with value: 0.9515546075028178.\n",
      "[I 2024-02-05 08:54:39,409] Trial 74 finished with value: 0.9507549775792985 and parameters: {'n_estimators': 208, 'max_depth': 19, 'min_samples_split': 3, 'min_samples_leaf': 2, 'max_features': 0.36845555422423115}. Best is trial 51 with value: 0.9515546075028178.\n",
      "[I 2024-02-05 08:55:03,038] Trial 75 finished with value: 0.9506199687517982 and parameters: {'n_estimators': 58, 'max_depth': 14, 'min_samples_split': 5, 'min_samples_leaf': 1, 'max_features': 0.18111549828028323}. Best is trial 51 with value: 0.9515546075028178.\n",
      "[I 2024-02-05 08:58:19,462] Trial 76 finished with value: 0.9499864900579558 and parameters: {'n_estimators': 121, 'max_depth': 16, 'min_samples_split': 4, 'min_samples_leaf': 3, 'max_features': 0.5228720875119799}. Best is trial 51 with value: 0.9515546075028178.\n",
      "[I 2024-02-05 08:59:58,539] Trial 77 finished with value: 0.9251043648213134 and parameters: {'n_estimators': 92, 'max_depth': 10, 'min_samples_split': 6, 'min_samples_leaf': 2, 'max_features': 0.4249262872430078}. Best is trial 51 with value: 0.9515546075028178.\n",
      "[I 2024-02-05 09:02:08,588] Trial 78 finished with value: 0.9513261401926526 and parameters: {'n_estimators': 183, 'max_depth': 17, 'min_samples_split': 4, 'min_samples_leaf': 1, 'max_features': 0.24350342435633057}. Best is trial 51 with value: 0.9515546075028178.\n",
      "[I 2024-02-05 09:03:00,247] Trial 79 finished with value: 0.951087288127308 and parameters: {'n_estimators': 75, 'max_depth': 15, 'min_samples_split': 5, 'min_samples_leaf': 3, 'max_features': 0.2848592300419061}. Best is trial 51 with value: 0.9515546075028178.\n",
      "[I 2024-02-05 09:04:14,507] Trial 80 finished with value: 0.951035353566537 and parameters: {'n_estimators': 172, 'max_depth': 18, 'min_samples_split': 3, 'min_samples_leaf': 1, 'max_features': 0.13840445776681115}. Best is trial 51 with value: 0.9515546075028178.\n",
      "[I 2024-02-05 09:06:27,347] Trial 81 finished with value: 0.951398836175127 and parameters: {'n_estimators': 193, 'max_depth': 15, 'min_samples_split': 4, 'min_samples_leaf': 1, 'max_features': 0.22983994675695324}. Best is trial 51 with value: 0.9515546075028178.\n",
      "[I 2024-02-05 09:08:58,526] Trial 82 finished with value: 0.9515961373563926 and parameters: {'n_estimators': 217, 'max_depth': 16, 'min_samples_split': 4, 'min_samples_leaf': 1, 'max_features': 0.20710076579789596}. Best is trial 82 with value: 0.9515961373563926.\n",
      "[I 2024-02-05 09:11:14,047] Trial 83 finished with value: 0.9516792213295086 and parameters: {'n_estimators': 194, 'max_depth': 16, 'min_samples_split': 5, 'min_samples_leaf': 1, 'max_features': 0.2048239753378474}. Best is trial 83 with value: 0.9516792213295086.\n",
      "[I 2024-02-05 09:13:51,093] Trial 84 finished with value: 0.9517519129980332 and parameters: {'n_estimators': 225, 'max_depth': 16, 'min_samples_split': 5, 'min_samples_leaf': 1, 'max_features': 0.2118269003805747}. Best is trial 84 with value: 0.9517519129980332.\n",
      "[I 2024-02-05 09:15:37,269] Trial 85 finished with value: 0.9516376796125723 and parameters: {'n_estimators': 253, 'max_depth': 16, 'min_samples_split': 5, 'min_samples_leaf': 1, 'max_features': 0.17084569931390753}. Best is trial 84 with value: 0.9517519129980332.\n",
      "[I 2024-02-05 09:17:28,099] Trial 86 finished with value: 0.9512638273476266 and parameters: {'n_estimators': 265, 'max_depth': 16, 'min_samples_split': 7, 'min_samples_leaf': 1, 'max_features': 0.1922272437482218}. Best is trial 84 with value: 0.9517519129980332.\n",
      "[I 2024-02-05 09:18:59,951] Trial 87 finished with value: 0.9515753726992271 and parameters: {'n_estimators': 219, 'max_depth': 16, 'min_samples_split': 6, 'min_samples_leaf': 1, 'max_features': 0.11344352847780192}. Best is trial 84 with value: 0.9517519129980332.\n",
      "[I 2024-02-05 09:20:29,854] Trial 88 finished with value: 0.9508588159639496 and parameters: {'n_estimators': 223, 'max_depth': 14, 'min_samples_split': 6, 'min_samples_leaf': 1, 'max_features': 0.1315459201993789}. Best is trial 84 with value: 0.9517519129980332.\n",
      "[I 2024-02-05 09:22:10,764] Trial 89 finished with value: 0.9507653537065787 and parameters: {'n_estimators': 250, 'max_depth': 14, 'min_samples_split': 5, 'min_samples_leaf': 1, 'max_features': 0.10778282021623868}. Best is trial 84 with value: 0.9517519129980332.\n",
      "[I 2024-02-05 09:23:42,595] Trial 90 finished with value: 0.9496853370109466 and parameters: {'n_estimators': 233, 'max_depth': 13, 'min_samples_split': 6, 'min_samples_leaf': 1, 'max_features': 0.16571032756129037}. Best is trial 84 with value: 0.9517519129980332.\n",
      "[I 2024-02-05 09:26:15,981] Trial 91 finished with value: 0.9515753743169583 and parameters: {'n_estimators': 219, 'max_depth': 16, 'min_samples_split': 7, 'min_samples_leaf': 1, 'max_features': 0.21288208664020244}. Best is trial 84 with value: 0.9517519129980332.\n",
      "[I 2024-02-05 09:28:48,604] Trial 92 finished with value: 0.9515338358354842 and parameters: {'n_estimators': 217, 'max_depth': 16, 'min_samples_split': 7, 'min_samples_leaf': 1, 'max_features': 0.2024806786696449}. Best is trial 84 with value: 0.9517519129980332.\n",
      "[I 2024-02-05 09:31:18,376] Trial 93 finished with value: 0.9514403746566009 and parameters: {'n_estimators': 217, 'max_depth': 15, 'min_samples_split': 7, 'min_samples_leaf': 1, 'max_features': 0.2009799639115059}. Best is trial 84 with value: 0.9517519129980332.\n",
      "[I 2024-02-05 09:32:35,245] Trial 94 finished with value: 0.9469748894861828 and parameters: {'n_estimators': 204, 'max_depth': 12, 'min_samples_split': 7, 'min_samples_leaf': 1, 'max_features': 0.16659850945152055}. Best is trial 84 with value: 0.9517519129980332.\n",
      "[I 2024-02-05 09:34:16,239] Trial 95 finished with value: 0.9492387822926022 and parameters: {'n_estimators': 254, 'max_depth': 16, 'min_samples_split': 6, 'min_samples_leaf': 6, 'max_features': 0.10312695559106447}. Best is trial 84 with value: 0.9517519129980332.\n",
      "[I 2024-02-05 09:36:48,365] Trial 96 finished with value: 0.9517726830476356 and parameters: {'n_estimators': 217, 'max_depth': 16, 'min_samples_split': 5, 'min_samples_leaf': 1, 'max_features': 0.22054151431801566}. Best is trial 96 with value: 0.9517726830476356.\n",
      "[I 2024-02-05 09:38:26,373] Trial 97 finished with value: 0.951346907006793 and parameters: {'n_estimators': 237, 'max_depth': 15, 'min_samples_split': 5, 'min_samples_leaf': 1, 'max_features': 0.15315809276273132}. Best is trial 96 with value: 0.9517726830476356.\n",
      "[I 2024-02-05 09:41:05,091] Trial 98 finished with value: 0.9513676748994208 and parameters: {'n_estimators': 226, 'max_depth': 16, 'min_samples_split': 6, 'min_samples_leaf': 1, 'max_features': 0.21041773570578315}. Best is trial 96 with value: 0.9517726830476356.\n",
      "[I 2024-02-05 09:42:35,409] Trial 99 finished with value: 0.9513780618115749 and parameters: {'n_estimators': 219, 'max_depth': 15, 'min_samples_split': 5, 'min_samples_leaf': 1, 'max_features': 0.17656037263057003}. Best is trial 96 with value: 0.9517726830476356.\n"
     ]
    },
    {
     "name": "stdout",
     "output_type": "stream",
     "text": [
      "Best hyperparameters: {'n_estimators': 217, 'max_depth': 16, 'min_samples_split': 5, 'min_samples_leaf': 1, 'max_features': 0.22054151431801566}\n",
      "Final model accuracy on test set: 0.950412794018381\n"
     ]
    }
   ],
   "source": [
    "import optuna\n",
    "from sklearn.ensemble import RandomForestClassifier\n",
    "from sklearn.model_selection import train_test_split, StratifiedKFold, cross_val_score\n",
    "\n",
    "cv = StratifiedKFold(n_splits=5, shuffle=True, random_state=SEED)\n",
    "\n",
    "\n",
    "def objective(trial):\n",
    "    params = {\n",
    "        'n_estimators': trial.suggest_int('n_estimators', 50, 300),\n",
    "        'max_depth': trial.suggest_int('max_depth', 3, 20),\n",
    "        'min_samples_split': trial.suggest_int('min_samples_split', 2, 10),\n",
    "        'min_samples_leaf': trial.suggest_int('min_samples_leaf', 1, 10),\n",
    "        'max_features': trial.suggest_float('max_features', 0.1, 1.0),\n",
    "    }\n",
    "\n",
    "    model = RandomForestClassifier(**params, random_state=SEED)\n",
    "\n",
    "    cv_scores = cross_val_score(model, top_features_train_data, target_le, cv=cv, scoring='accuracy')\n",
    "    \n",
    "    mean_cv_accuracy = cv_scores.mean()\n",
    "    \n",
    "    return mean_cv_accuracy\n",
    "\n",
    "\n",
    "study = optuna.create_study(direction='maximize')\n",
    "study.optimize(objective, n_trials=100)\n",
    "\n",
    "\n",
    "best_params = study.best_params\n",
    "print(f\"Best hyperparameters: {best_params}\")\n",
    "\n",
    "\n",
    "final_rf_model = RandomForestClassifier(**best_params, random_state=SEED)\n",
    "final_rf_model.fit(X_train, y_train)\n",
    "\n",
    "\n",
    "final_model_accuracy = final_rf_model.score(X_test, y_test)\n",
    "print(f\"Final model accuracy on test set: {final_model_accuracy}\")\n"
   ]
  },
  {
   "cell_type": "code",
   "execution_count": 1162,
   "id": "1a451226-0406-425c-9d8d-e4161fbe5b6b",
   "metadata": {},
   "outputs": [
    {
     "data": {
      "text/plain": [
       "0.9441604534488002"
      ]
     },
     "execution_count": 1162,
     "metadata": {},
     "output_type": "execute_result"
    }
   ],
   "source": [
    "Best_Parameters={'n_estimators': 217, 'max_depth': 16, 'min_samples_split': 5, 'min_samples_leaf': 1, 'max_features': 0.22054151431801566}\n",
    "rf_model = RandomForestClassifier(**Best_Parameters, random_state=SEED)\n",
    "\n",
    "scores = cross_val_score(rf_model, top_features_train_data, target_le, cv=cv, scoring='f1_macro', n_jobs=-1)\n",
    "mean_f1_macro = np.mean(scores)\n",
    "mean_f1_macro"
   ]
  },
  {
   "cell_type": "code",
   "execution_count": 494,
   "id": "fb20569b-833a-422b-94fd-af26a58c7822",
   "metadata": {},
   "outputs": [
    {
     "data": {
      "text/plain": [
       "array([1, 1, 0, ..., 3, 2, 0])"
      ]
     },
     "execution_count": 494,
     "metadata": {},
     "output_type": "execute_result"
    }
   ],
   "source": [
    "Best_Parameters={'learning_rate': 0.17131248021413206, 'max_depth': 5, 'n_estimators': 299, 'subsample': 0.9998604437866927, 'colsample_bytree': 0.9489097785434496}\n",
    "xgb_model=XGBClassifier(**Best_Parameters)\n",
    "xgb_model.fit(top_features_train_data,target_le)\n",
    "pred=xgb_model.predict(top_features_test_data)\n",
    "pred"
   ]
  },
  {
   "cell_type": "code",
   "execution_count": 1163,
   "id": "654e4cad-3b6c-4532-bdf1-5eb647958b2f",
   "metadata": {},
   "outputs": [
    {
     "data": {
      "text/html": [
       "<style>#sk-container-id-8 {color: black;}#sk-container-id-8 pre{padding: 0;}#sk-container-id-8 div.sk-toggleable {background-color: white;}#sk-container-id-8 label.sk-toggleable__label {cursor: pointer;display: block;width: 100%;margin-bottom: 0;padding: 0.3em;box-sizing: border-box;text-align: center;}#sk-container-id-8 label.sk-toggleable__label-arrow:before {content: \"▸\";float: left;margin-right: 0.25em;color: #696969;}#sk-container-id-8 label.sk-toggleable__label-arrow:hover:before {color: black;}#sk-container-id-8 div.sk-estimator:hover label.sk-toggleable__label-arrow:before {color: black;}#sk-container-id-8 div.sk-toggleable__content {max-height: 0;max-width: 0;overflow: hidden;text-align: left;background-color: #f0f8ff;}#sk-container-id-8 div.sk-toggleable__content pre {margin: 0.2em;color: black;border-radius: 0.25em;background-color: #f0f8ff;}#sk-container-id-8 input.sk-toggleable__control:checked~div.sk-toggleable__content {max-height: 200px;max-width: 100%;overflow: auto;}#sk-container-id-8 input.sk-toggleable__control:checked~label.sk-toggleable__label-arrow:before {content: \"▾\";}#sk-container-id-8 div.sk-estimator input.sk-toggleable__control:checked~label.sk-toggleable__label {background-color: #d4ebff;}#sk-container-id-8 div.sk-label input.sk-toggleable__control:checked~label.sk-toggleable__label {background-color: #d4ebff;}#sk-container-id-8 input.sk-hidden--visually {border: 0;clip: rect(1px 1px 1px 1px);clip: rect(1px, 1px, 1px, 1px);height: 1px;margin: -1px;overflow: hidden;padding: 0;position: absolute;width: 1px;}#sk-container-id-8 div.sk-estimator {font-family: monospace;background-color: #f0f8ff;border: 1px dotted black;border-radius: 0.25em;box-sizing: border-box;margin-bottom: 0.5em;}#sk-container-id-8 div.sk-estimator:hover {background-color: #d4ebff;}#sk-container-id-8 div.sk-parallel-item::after {content: \"\";width: 100%;border-bottom: 1px solid gray;flex-grow: 1;}#sk-container-id-8 div.sk-label:hover label.sk-toggleable__label {background-color: #d4ebff;}#sk-container-id-8 div.sk-serial::before {content: \"\";position: absolute;border-left: 1px solid gray;box-sizing: border-box;top: 0;bottom: 0;left: 50%;z-index: 0;}#sk-container-id-8 div.sk-serial {display: flex;flex-direction: column;align-items: center;background-color: white;padding-right: 0.2em;padding-left: 0.2em;position: relative;}#sk-container-id-8 div.sk-item {position: relative;z-index: 1;}#sk-container-id-8 div.sk-parallel {display: flex;align-items: stretch;justify-content: center;background-color: white;position: relative;}#sk-container-id-8 div.sk-item::before, #sk-container-id-8 div.sk-parallel-item::before {content: \"\";position: absolute;border-left: 1px solid gray;box-sizing: border-box;top: 0;bottom: 0;left: 50%;z-index: -1;}#sk-container-id-8 div.sk-parallel-item {display: flex;flex-direction: column;z-index: 1;position: relative;background-color: white;}#sk-container-id-8 div.sk-parallel-item:first-child::after {align-self: flex-end;width: 50%;}#sk-container-id-8 div.sk-parallel-item:last-child::after {align-self: flex-start;width: 50%;}#sk-container-id-8 div.sk-parallel-item:only-child::after {width: 0;}#sk-container-id-8 div.sk-dashed-wrapped {border: 1px dashed gray;margin: 0 0.4em 0.5em 0.4em;box-sizing: border-box;padding-bottom: 0.4em;background-color: white;}#sk-container-id-8 div.sk-label label {font-family: monospace;font-weight: bold;display: inline-block;line-height: 1.2em;}#sk-container-id-8 div.sk-label-container {text-align: center;}#sk-container-id-8 div.sk-container {/* jupyter's `normalize.less` sets `[hidden] { display: none; }` but bootstrap.min.css set `[hidden] { display: none !important; }` so we also need the `!important` here to be able to override the default hidden behavior on the sphinx rendered scikit-learn.org. See: https://github.com/scikit-learn/scikit-learn/issues/21755 */display: inline-block !important;position: relative;}#sk-container-id-8 div.sk-text-repr-fallback {display: none;}</style><div id=\"sk-container-id-8\" class=\"sk-top-container\"><div class=\"sk-text-repr-fallback\"><pre>RandomForestClassifier(max_depth=16, max_features=0.22054151431801566,\n",
       "                       min_samples_split=5, n_estimators=217, random_state=822)</pre><b>In a Jupyter environment, please rerun this cell to show the HTML representation or trust the notebook. <br />On GitHub, the HTML representation is unable to render, please try loading this page with nbviewer.org.</b></div><div class=\"sk-container\" hidden><div class=\"sk-item\"><div class=\"sk-estimator sk-toggleable\"><input class=\"sk-toggleable__control sk-hidden--visually\" id=\"sk-estimator-id-14\" type=\"checkbox\" checked><label for=\"sk-estimator-id-14\" class=\"sk-toggleable__label sk-toggleable__label-arrow\">RandomForestClassifier</label><div class=\"sk-toggleable__content\"><pre>RandomForestClassifier(max_depth=16, max_features=0.22054151431801566,\n",
       "                       min_samples_split=5, n_estimators=217, random_state=822)</pre></div></div></div></div></div>"
      ],
      "text/plain": [
       "RandomForestClassifier(max_depth=16, max_features=0.22054151431801566,\n",
       "                       min_samples_split=5, n_estimators=217, random_state=822)"
      ]
     },
     "execution_count": 1163,
     "metadata": {},
     "output_type": "execute_result"
    }
   ],
   "source": [
    "rf_model"
   ]
  },
  {
   "cell_type": "code",
   "execution_count": 1164,
   "id": "ae9042c2-8057-4274-b75f-68d2c018ad9a",
   "metadata": {},
   "outputs": [],
   "source": [
    "sample_sub = pd.read_csv(\"sample_submission.csv\")"
   ]
  },
  {
   "cell_type": "code",
   "execution_count": 1165,
   "id": "f96bfcb9-2b15-4e50-b2af-77a997b0071d",
   "metadata": {
    "scrolled": true
   },
   "outputs": [
    {
     "data": {
      "text/plain": [
       "array([1, 1, 0, ..., 3, 2, 0])"
      ]
     },
     "execution_count": 1165,
     "metadata": {},
     "output_type": "execute_result"
    }
   ],
   "source": [
    "rf_model.fit(top_features_train_data,target_le)\n",
    "\n",
    "pred = rf_model.predict(top_features_test_data)\n",
    "pred"
   ]
  },
  {
   "cell_type": "code",
   "execution_count": 1166,
   "id": "f98ce188-067d-46b5-bebe-234b816b5bae",
   "metadata": {
    "scrolled": true
   },
   "outputs": [],
   "source": [
    "sample_sub[\"대출등급\"] = le.inverse_transform(pred)\n",
    "sample_sub\n",
    "sample_sub.to_csv(\"rf_model.csv\",index=False)"
   ]
  },
  {
   "cell_type": "code",
   "execution_count": 946,
   "id": "2a8c394e-796d-4dc7-bc7f-7adfb735925e",
   "metadata": {
    "scrolled": true
   },
   "outputs": [
    {
     "data": {
      "text/html": [
       "<div>\n",
       "<style scoped>\n",
       "    .dataframe tbody tr th:only-of-type {\n",
       "        vertical-align: middle;\n",
       "    }\n",
       "\n",
       "    .dataframe tbody tr th {\n",
       "        vertical-align: top;\n",
       "    }\n",
       "\n",
       "    .dataframe thead th {\n",
       "        text-align: right;\n",
       "    }\n",
       "</style>\n",
       "<table border=\"1\" class=\"dataframe\">\n",
       "  <thead>\n",
       "    <tr style=\"text-align: right;\">\n",
       "      <th></th>\n",
       "      <th>ID</th>\n",
       "      <th>대출등급</th>\n",
       "    </tr>\n",
       "  </thead>\n",
       "  <tbody>\n",
       "    <tr>\n",
       "      <th>0</th>\n",
       "      <td>TEST_00000</td>\n",
       "      <td>B</td>\n",
       "    </tr>\n",
       "    <tr>\n",
       "      <th>1</th>\n",
       "      <td>TEST_00001</td>\n",
       "      <td>B</td>\n",
       "    </tr>\n",
       "    <tr>\n",
       "      <th>2</th>\n",
       "      <td>TEST_00002</td>\n",
       "      <td>A</td>\n",
       "    </tr>\n",
       "    <tr>\n",
       "      <th>3</th>\n",
       "      <td>TEST_00003</td>\n",
       "      <td>C</td>\n",
       "    </tr>\n",
       "    <tr>\n",
       "      <th>4</th>\n",
       "      <td>TEST_00004</td>\n",
       "      <td>C</td>\n",
       "    </tr>\n",
       "    <tr>\n",
       "      <th>...</th>\n",
       "      <td>...</td>\n",
       "      <td>...</td>\n",
       "    </tr>\n",
       "    <tr>\n",
       "      <th>64192</th>\n",
       "      <td>TEST_64192</td>\n",
       "      <td>D</td>\n",
       "    </tr>\n",
       "    <tr>\n",
       "      <th>64193</th>\n",
       "      <td>TEST_64193</td>\n",
       "      <td>D</td>\n",
       "    </tr>\n",
       "    <tr>\n",
       "      <th>64194</th>\n",
       "      <td>TEST_64194</td>\n",
       "      <td>D</td>\n",
       "    </tr>\n",
       "    <tr>\n",
       "      <th>64195</th>\n",
       "      <td>TEST_64195</td>\n",
       "      <td>C</td>\n",
       "    </tr>\n",
       "    <tr>\n",
       "      <th>64196</th>\n",
       "      <td>TEST_64196</td>\n",
       "      <td>A</td>\n",
       "    </tr>\n",
       "  </tbody>\n",
       "</table>\n",
       "<p>64197 rows × 2 columns</p>\n",
       "</div>"
      ],
      "text/plain": [
       "               ID 대출등급\n",
       "0      TEST_00000    B\n",
       "1      TEST_00001    B\n",
       "2      TEST_00002    A\n",
       "3      TEST_00003    C\n",
       "4      TEST_00004    C\n",
       "...           ...  ...\n",
       "64192  TEST_64192    D\n",
       "64193  TEST_64193    D\n",
       "64194  TEST_64194    D\n",
       "64195  TEST_64195    C\n",
       "64196  TEST_64196    A\n",
       "\n",
       "[64197 rows x 2 columns]"
      ]
     },
     "execution_count": 946,
     "metadata": {},
     "output_type": "execute_result"
    }
   ],
   "source": [
    "sample_sub"
   ]
  },
  {
   "cell_type": "code",
   "execution_count": null,
   "id": "3785b5c4-a100-407f-8750-2b30a4879a3c",
   "metadata": {},
   "outputs": [],
   "source": []
  }
 ],
 "metadata": {
  "kernelspec": {
   "display_name": "Python 3 (ipykernel)",
   "language": "python",
   "name": "python3"
  },
  "language_info": {
   "codemirror_mode": {
    "name": "ipython",
    "version": 3
   },
   "file_extension": ".py",
   "mimetype": "text/x-python",
   "name": "python",
   "nbconvert_exporter": "python",
   "pygments_lexer": "ipython3",
   "version": "3.10.13"
  }
 },
 "nbformat": 4,
 "nbformat_minor": 5
}
